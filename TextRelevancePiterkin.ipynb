{
  "nbformat": 4,
  "nbformat_minor": 0,
  "metadata": {
    "colab": {
      "name": "TextRelevancePiterkin.ipynb",
      "provenance": [],
      "collapsed_sections": [],
      "machine_shape": "hm",
      "mount_file_id": "1vTQi2K5C9NnNXrtTaCgKRw7oI07DK1Im",
      "authorship_tag": "ABX9TyOi0750WW9j9uFmRcWsU/QR",
      "include_colab_link": true
    },
    "kernelspec": {
      "name": "python3",
      "display_name": "Python 3"
    }
  },
  "cells": [
    {
      "cell_type": "markdown",
      "metadata": {
        "id": "view-in-github",
        "colab_type": "text"
      },
      "source": [
        "<a href=\"https://colab.research.google.com/github/MitPitt/IR/blob/master/TextRelevancePiterkin.ipynb\" target=\"_parent\"><img src=\"https://colab.research.google.com/assets/colab-badge.svg\" alt=\"Open In Colab\"/></a>"
      ]
    },
    {
      "cell_type": "code",
      "metadata": {
        "id": "VVpumQ1SBogn",
        "colab_type": "code",
        "colab": {}
      },
      "source": [
        "!pip install stanza\n",
        "!pip install spacy_stanza\n",
        "!pip install pymorphy2==0.8\n",
        "!pip install transliterate\n",
        "!pip install googletrans\n",
        "!pip install yandex-translater\n",
        "!pip install pyaspeller"
      ],
      "execution_count": 0,
      "outputs": []
    },
    {
      "cell_type": "code",
      "metadata": {
        "id": "BxoiycrH0iG1",
        "colab_type": "code",
        "outputId": "7585e45f-97b0-4cb5-884e-1acd6e5bf316",
        "colab": {
          "base_uri": "https://localhost:8080/",
          "height": 85
        }
      },
      "source": [
        "import googletrans\n",
        "import yandex.Translater\n",
        "import pyaspeller\n",
        "from transliterate import translit\n",
        "import stanza\n",
        "from spacy_stanza import StanzaLanguage\n",
        "\n",
        "stanza.download('ru') "
      ],
      "execution_count": 0,
      "outputs": [
        {
          "output_type": "stream",
          "text": [
            "Downloading https://raw.githubusercontent.com/stanfordnlp/stanza-resources/master/resources_1.0.0.json: 116kB [00:00, 10.3MB/s]                    \n",
            "2020-05-20 01:03:46 INFO: Downloading default packages for language: ru (Russian)...\n",
            "Downloading http://nlp.stanford.edu/software/stanza/1.0.0/ru/default.zip: 100%|██████████| 591M/591M [01:47<00:00, 5.52MB/s]\n",
            "2020-05-20 01:05:42 INFO: Finished downloading models and saved to /root/stanza_resources.\n"
          ],
          "name": "stderr"
        }
      ]
    },
    {
      "cell_type": "code",
      "metadata": {
        "id": "ubq_17fB3-6U",
        "colab_type": "code",
        "colab": {}
      },
      "source": [
        "class QueryProcessor():\n",
        "    def __init__(self):\n",
        "        # layouts\n",
        "        self._rus_chars = \"ёйцукенгшщзхъфывапролджэячсмитьбю.Ё!\\\"№;%:?*()_+ЙЦУКЕНГШЩЗХЪ/ФЫВАПРОЛДЖЭЯЧСМИТЬБЮ,\" # note \\\"\n",
        "        self._eng_chars = \"`qwertyuiop[]asdfghjkl;'zxcvbnm,./~!@#$%^&*()_+QWERTYUIOP{}|ASDFGHJKL:\\\"ZXCVBNM<>?\" # note \\\"\n",
        "        self._trans_ru2en = str.maketrans(self._rus_chars, self._eng_chars)\n",
        "        self._trans_en2ru = str.maketrans(self._eng_chars, self._rus_chars)\n",
        "        #translator 1\n",
        "        self.yandex_tr = yandex.Translater.Translater()\n",
        "        self.yandex_tr.set_key('trnsl.1.1.20200508T141638Z.ad4b0fa3731d6994.9453309fdac5d82ddf65137156a065683eeb4fe9')\n",
        "        #translator 2\n",
        "        self.google_tr = googletrans.Translator()\n",
        "        #spellchecker\n",
        "        self.spellchecker = pyaspeller.YandexSpeller(lang=['ru','en'], ignore_capitalization=True, ignore_urls=True, ignore_digits=True,)\n",
        "        #lemmatizer\n",
        "        self.nlp = StanzaLanguage(stanza.Pipeline(lang=\"ru\"))\n",
        "\n",
        "    def _check_layout(self, query):\n",
        "        det = self.google_tr.detect(query)\n",
        "        query_ru = query.translate(self._trans_en2ru)\n",
        "        det_ru = self.google_tr.detect(query_ru)\n",
        "        #print(det_ru.confidence, det.confidence)\n",
        "        if det.lang!='ru' and det.lang!='uk' and det_ru.confidence > det.confidence:\n",
        "            query = query_ru \n",
        "        return query\n",
        "\n",
        "    def _translate(self, query):\n",
        "        alternatives = []\n",
        "        if self.google_tr.detect(query).lang != 'ru':\n",
        "            self.yandex_tr.set_text(query)\n",
        "            self.yandex_tr.set_from_lang(self.yandex_tr.detect_lang())\n",
        "            self.yandex_tr.set_to_lang('ru')\n",
        "            alternatives.append(self.yandex_tr.translate().lower())\n",
        "            #gtr = self.google_tr.translate(query, dest='ru').text.lower()\n",
        "            #if gtr not in alternatives:\n",
        "            #    alternatives.append(gtr)\n",
        "        else:\n",
        "            alternatives.append(query)\n",
        "        return alternatives\n",
        "\n",
        "    def _spellcheck(self, query):\n",
        "        for error in self.spellchecker.spell(query):\n",
        "            #print(error)\n",
        "            if len(error['s'])>0:\n",
        "                query = query.replace(error['word'], error['s'][0], 1)\n",
        "            else:\n",
        "                word = translit(error['word'], language_code='ru', reversed=True)\n",
        "                try:\n",
        "                    www = next(self.spellchecker.spell(word))['s']\n",
        "                    if len(www) > 0:\n",
        "                        query = query.replace(error['word'], www[0], 1)\n",
        "                except StopIteration:\n",
        "                    pass\n",
        "        return query\n",
        "\n",
        "    def _alts(self, query, swaplang='en'):\n",
        "        \"\"\"\n",
        "        get synonymous queries\n",
        "        \"\"\"\n",
        "        self.yandex_tr.set_text(query)\n",
        "        self.yandex_tr.set_from_lang('ru')\n",
        "        self.yandex_tr.set_to_lang(swaplang)\n",
        "        self.yandex_tr.set_text(self.yandex_tr.translate())\n",
        "        self.yandex_tr.set_from_lang(swaplang)\n",
        "        self.yandex_tr.set_to_lang('ru')\n",
        "        alts = [\n",
        "                query,\n",
        "                self.yandex_tr.translate().lower(),\n",
        "                self.google_tr.translate((self.google_tr.translate(query, dest=swaplang).text), dest='ru').text.lower(),\n",
        "                ]\n",
        "        return alts\n",
        "\n",
        "    def _lemmatize(self, query):\n",
        "        lemmas = self.nlp(query)\n",
        "        #for word in lemmas:\n",
        "        #    print(word.lemma_, word.pos_)\n",
        "        query = [word.lemma_ for word in lemmas if (word.pos_ != 'PUNCT' and word.pos_ !='ADP' and word.pos_ !='ADV' and word.pos_ !='PART' and word.pos_ !='CCONJ')] # delete punctuation and stopwords\n",
        "        return query\n",
        "\n",
        "    def process(self, query):\n",
        "        query = self._check_layout(query)\n",
        "        alternatives = self._translate(query)\n",
        "        alternatives = [self._spellcheck(query) for query in alternatives]\n",
        "        #print(alternatives)\n",
        "        newalts = []\n",
        "        languages = ['en'] # ,es,de\n",
        "        for lang in languages:\n",
        "            alternatives_trick =  [self._alts(query, swaplang=lang) for query in alternatives]\n",
        "            alternatives_trick = {item for sublist in alternatives_trick for item in sublist} #flatten and remove dupes\n",
        "            #print(alternatives_trick)\n",
        "            newalts += list(alternatives_trick)\n",
        "        alternatives = newalts\n",
        "        #print(alternatives)\n",
        "        alternatives = [self._lemmatize(query) for query in alternatives]\n",
        "        #query = {item for sublist in alternatives for item in sublist} # merge all uqique lemmas into one query\n",
        "        #return ' '.join(query)\n",
        "        return alternatives"
      ],
      "execution_count": 0,
      "outputs": []
    },
    {
      "cell_type": "code",
      "metadata": {
        "id": "0RIYpVLNk9QU",
        "colab_type": "code",
        "outputId": "44649f5b-1d61-46bf-c0ae-108fa7ddc71b",
        "colab": {
          "base_uri": "https://localhost:8080/",
          "height": 323
        }
      },
      "source": [
        "Processor = QueryProcessor()"
      ],
      "execution_count": 0,
      "outputs": [
        {
          "output_type": "stream",
          "text": [
            "2020-05-20 01:05:49 INFO: Loading these models for language: ru (Russian):\n",
            "=========================\n",
            "| Processor | Package   |\n",
            "-------------------------\n",
            "| tokenize  | syntagrus |\n",
            "| pos       | syntagrus |\n",
            "| lemma     | syntagrus |\n",
            "| depparse  | syntagrus |\n",
            "| ner       | wikiner   |\n",
            "=========================\n",
            "\n",
            "2020-05-20 01:05:49 INFO: Use device: cpu\n",
            "2020-05-20 01:05:49 INFO: Loading: tokenize\n",
            "2020-05-20 01:05:49 INFO: Loading: pos\n",
            "2020-05-20 01:05:50 INFO: Loading: lemma\n",
            "2020-05-20 01:05:50 INFO: Loading: depparse\n",
            "2020-05-20 01:05:51 INFO: Loading: ner\n",
            "2020-05-20 01:05:53 INFO: Done loading processors!\n"
          ],
          "name": "stderr"
        }
      ]
    },
    {
      "cell_type": "code",
      "metadata": {
        "id": "r4VK7E7U3T_o",
        "colab_type": "code",
        "outputId": "5970a6a0-5d88-46d6-a888-b52e455c9fba",
        "colab": {
          "base_uri": "https://localhost:8080/",
          "height": 68
        }
      },
      "source": [
        "Processor.process('как файл пдф перевести в бмп') # странно лемматизирует \"пдф\" но это норм, в документах лемматизирует так же"
      ],
      "execution_count": 0,
      "outputs": [
        {
          "output_type": "execute_result",
          "data": {
            "text/plain": [
              "[['как', 'файл', 'пдф', 'перевести', 'бмп'],\n",
              " ['как', 'файл', 'п+f', 'конвертировать', 'bmp'],\n",
              " ['как', 'файл', 'формат', 'п+f', 'конвертировать', 'bmp']]"
            ]
          },
          "metadata": {
            "tags": []
          },
          "execution_count": 39
        }
      ]
    },
    {
      "cell_type": "code",
      "metadata": {
        "id": "u_NroPUfKa0M",
        "colab_type": "code",
        "colab": {}
      },
      "source": [
        "i=0\n",
        "\n",
        "with open('/content/drive/My Drive/text relevance/lemmatized_queries.txt', mode='a') as  lemqueries:\n",
        "    with open('/content/drive/My Drive/text relevance/queries.numerate.txt', encoding='utf8') as queries:\n",
        "        for line in queries:\n",
        "            query_id, query = line.strip().split('\\t')\n",
        "            print(\"({0})\\t{1}\".format(query_id, query))\n",
        "            lemd = Processor.process(query)\n",
        "            print(lemd)\n",
        "            for lem in lemd:\n",
        "                lemqueries.write(query_id +'\\t'+ ' '.join(lem) +'\\n')\n",
        "            i+=1\n",
        "i"
      ],
      "execution_count": 0,
      "outputs": []
    },
    {
      "cell_type": "code",
      "metadata": {
        "id": "_PeXzome1B75",
        "colab_type": "code",
        "outputId": "ba480a18-25c0-4564-9e1e-9bd060dde44c",
        "colab": {
          "base_uri": "https://localhost:8080/",
          "height": 255
        }
      },
      "source": [
        "nlp = StanzaLanguage(stanza.Pipeline(lang=\"ru\", use_gpu=True, processors='tokenize,pos,lemma'))"
      ],
      "execution_count": 0,
      "outputs": [
        {
          "output_type": "stream",
          "text": [
            "2020-05-18 10:43:17 INFO: Loading these models for language: ru (Russian):\n",
            "=========================\n",
            "| Processor | Package   |\n",
            "-------------------------\n",
            "| tokenize  | syntagrus |\n",
            "| pos       | syntagrus |\n",
            "| lemma     | syntagrus |\n",
            "=========================\n",
            "\n",
            "2020-05-18 10:43:17 INFO: Use device: gpu\n",
            "2020-05-18 10:43:17 INFO: Loading: tokenize\n",
            "2020-05-18 10:43:27 INFO: Loading: pos\n",
            "2020-05-18 10:43:28 INFO: Loading: lemma\n",
            "2020-05-18 10:43:29 INFO: Done loading processors!\n"
          ],
          "name": "stderr"
        }
      ]
    },
    {
      "cell_type": "code",
      "metadata": {
        "id": "_Xtf6UC2ZeCH",
        "colab_type": "code",
        "outputId": "32ca6cc2-c84b-4692-a4b4-f9b97d65f108",
        "colab": {
          "base_uri": "https://localhost:8080/",
          "height": 68
        }
      },
      "source": [
        "for i in nlp('куда поехать отдыхать'):\n",
        "  print(i.lemma_, i.pos_)"
      ],
      "execution_count": 0,
      "outputs": [
        {
          "output_type": "stream",
          "text": [
            "куда ADV\n",
            "поехать VERB\n",
            "отдыхать VERB\n"
          ],
          "name": "stdout"
        }
      ]
    },
    {
      "cell_type": "code",
      "metadata": {
        "id": "UJTk9f4nZzUW",
        "colab_type": "code",
        "colab": {}
      },
      "source": [
        "from bs4 import BeautifulSoup\n",
        "import re\n",
        "import warnings\n",
        "\n",
        "regex = re.compile('[^а-яА-Яa-zA-Z0-9]')\n",
        "\n",
        "def parse_html(filepath):\n",
        "    with warnings.catch_warnings():\n",
        "        warnings.simplefilter(\"ignore\")\n",
        "        with open(filepath, \"rb\") as f:\n",
        "            \n",
        "            contents = f.read()\n",
        "\n",
        "            soup = BeautifulSoup(contents, 'html.parser')\n",
        "\n",
        "            try:\n",
        "                title = soup.title.text.lower()\n",
        "            except AttributeError:\n",
        "                return [''], ['']\n",
        "            \n",
        "            data = soup.findAll(text=re.compile('[а-яА-Я]'))\n",
        "            def visible(element):\n",
        "                #print(str(element.encode('utf-8')))\n",
        "                if element.parent.name in ['style', 'script', '[document]']:\n",
        "                    return False\n",
        "                elif re.search('<.*>', str(element.encode('utf-8',errors='surrogatepass'))):\n",
        "                    return False\n",
        "                return True\n",
        "            other_text = filter(visible, data)\n",
        "            other_text = [x.strip() for x in other_text]\n",
        "            other_textt = []\n",
        "            for x in other_text:\n",
        "                x = regex.sub(' ', x).strip()\n",
        "                if len(x)>1:\n",
        "                    other_textt.extend([word.lemma_.lower() for word in nlp(x) if len(word.lemma_)>1 and (word.pos_ != 'PUNCT' and word.pos_ !='ADP' and word.pos_ !='ADV' and word.pos_ !='PART' and word.pos_ !='CCONJ')])\n",
        "            \n",
        "            \n",
        "            title = [word.lemma_.lower() for word in nlp(title) if len(word.lemma_)>1 and (word.pos_ != 'PUNCT' and word.pos_ !='ADP' and word.pos_ !='ADV' and word.pos_ !='PART' and word.pos_ !='CCONJ')]\n",
        "    return title, other_textt"
      ],
      "execution_count": 0,
      "outputs": []
    },
    {
      "cell_type": "code",
      "metadata": {
        "id": "Hl7n4v0YHWFN",
        "colab_type": "code",
        "colab": {}
      },
      "source": [
        "parse_html(\"/content/drive/My Drive/text relevance/content/content/20170702/doc.0000.dat\")"
      ],
      "execution_count": 0,
      "outputs": []
    },
    {
      "cell_type": "code",
      "metadata": {
        "id": "odISrCygk4qP",
        "colab_type": "code",
        "colab": {}
      },
      "source": [
        "import os\n",
        "import os.path"
      ],
      "execution_count": 0,
      "outputs": []
    },
    {
      "cell_type": "code",
      "metadata": {
        "id": "rAzqiU81ikb1",
        "colab_type": "code",
        "outputId": "aa2e2b1b-f0fd-4499-c3b3-27d3eccc368f",
        "colab": {
          "base_uri": "https://localhost:8080/",
          "height": 204
        }
      },
      "source": [
        "import pandas as pd\n",
        "\n",
        "\n",
        "id_to_url = pd.read_csv(\"/content/drive/My Drive/text relevance/urls.numerate.txt\", sep='\\t', encoding='utf-8', header=None, names=['id','url','lemmatized_text_path'])\n",
        "id_to_url.head()"
      ],
      "execution_count": 0,
      "outputs": [
        {
          "output_type": "execute_result",
          "data": {
            "text/html": [
              "<div>\n",
              "<style scoped>\n",
              "    .dataframe tbody tr th:only-of-type {\n",
              "        vertical-align: middle;\n",
              "    }\n",
              "\n",
              "    .dataframe tbody tr th {\n",
              "        vertical-align: top;\n",
              "    }\n",
              "\n",
              "    .dataframe thead th {\n",
              "        text-align: right;\n",
              "    }\n",
              "</style>\n",
              "<table border=\"1\" class=\"dataframe\">\n",
              "  <thead>\n",
              "    <tr style=\"text-align: right;\">\n",
              "      <th></th>\n",
              "      <th>id</th>\n",
              "      <th>url</th>\n",
              "      <th>lemmatized_text_path</th>\n",
              "    </tr>\n",
              "  </thead>\n",
              "  <tbody>\n",
              "    <tr>\n",
              "      <th>0</th>\n",
              "      <td>1</td>\n",
              "      <td>eva.ru/forum/topic-tree-mobile.htm?messageId=8...</td>\n",
              "      <td>NaN</td>\n",
              "    </tr>\n",
              "    <tr>\n",
              "      <th>1</th>\n",
              "      <td>2</td>\n",
              "      <td>e1.ru/articles/travel/page_4/009/994/article_9...</td>\n",
              "      <td>NaN</td>\n",
              "    </tr>\n",
              "    <tr>\n",
              "      <th>2</th>\n",
              "      <td>3</td>\n",
              "      <td>bikepost.ru/qa/post/9065/Kak-pravilno-sdelat-v...</td>\n",
              "      <td>NaN</td>\n",
              "    </tr>\n",
              "    <tr>\n",
              "      <th>3</th>\n",
              "      <td>4</td>\n",
              "      <td>rutax.polpred.com/?ns=1&amp;page=2</td>\n",
              "      <td>NaN</td>\n",
              "    </tr>\n",
              "    <tr>\n",
              "      <th>4</th>\n",
              "      <td>5</td>\n",
              "      <td>coollib.com/b/259649/read</td>\n",
              "      <td>NaN</td>\n",
              "    </tr>\n",
              "  </tbody>\n",
              "</table>\n",
              "</div>"
            ],
            "text/plain": [
              "   id                                                url  lemmatized_text_path\n",
              "0   1  eva.ru/forum/topic-tree-mobile.htm?messageId=8...                   NaN\n",
              "1   2  e1.ru/articles/travel/page_4/009/994/article_9...                   NaN\n",
              "2   3  bikepost.ru/qa/post/9065/Kak-pravilno-sdelat-v...                   NaN\n",
              "3   4                     rutax.polpred.com/?ns=1&page=2                   NaN\n",
              "4   5                          coollib.com/b/259649/read                   NaN"
            ]
          },
          "metadata": {
            "tags": []
          },
          "execution_count": 2
        }
      ]
    },
    {
      "cell_type": "code",
      "metadata": {
        "id": "4_Loe8o9QthD",
        "colab_type": "code",
        "colab": {}
      },
      "source": [
        "i=0\n",
        "for root, dirs, files in os.walk(\"/content/drive/My Drive/text relevance/content/content\"):\n",
        "  if root == '/content/drive/My Drive/text relevance/content/content/20170711':\n",
        "    for filee in files:\n",
        "        i+=1\n",
        "        filepath = root+'/'+filee\n",
        "\n",
        "        lemmatized_path = root + '_lem/'+ filee + '.lemmatized.txt'\n",
        "        \n",
        "        #if os.path.getsize(filepath) > 1000000:\n",
        "        #  continue\n",
        "\n",
        "        if not os.path.isfile(lemmatized_path):\n",
        "          \n",
        "            with open(filepath, 'rb') as f:\n",
        "                url = f.readline().rstrip()\n",
        "            print(i)\n",
        "            print('URL:', url)\n",
        "            print(lemmatized_path)\n",
        "            lemmatized_title, lemmatized_text = parse_html(filepath)\n",
        "            print('title:', ' '.join(lemmatized_title))\n",
        "            with open(lemmatized_path, 'w') as the_file:\n",
        "                the_file.write(' '.join(lemmatized_title) + '\\n' + ' '.join(lemmatized_text))\n",
        "        else:\n",
        "            continue\n",
        "\n",
        "        id_to_url.loc[id_to_url['url'] == url, 'lemmatized_text_path'] = lemmatized_path"
      ],
      "execution_count": 0,
      "outputs": []
    },
    {
      "cell_type": "markdown",
      "metadata": {
        "id": "JSLLbn99MUsO",
        "colab_type": "text"
      },
      "source": [
        "sss"
      ]
    },
    {
      "cell_type": "code",
      "metadata": {
        "id": "5EQmDl-VTC4_",
        "colab_type": "code",
        "outputId": "089c8ba4-f1dc-4f7a-e466-cdc366414d10",
        "colab": {
          "base_uri": "https://localhost:8080/",
          "height": 88
        }
      },
      "source": [
        "with open('/content/drive/My Drive/text relevance/content/content/20170702/doc.4084.dat.lemmatized.txt') as fil:\n",
        "    for line in fil:\n",
        "      print(line)"
      ],
      "execution_count": 0,
      "outputs": [
        {
          "output_type": "stream",
          "text": [
            "нестандартный династия вопрос предложение [архив страница prosims новость обзор дополнение файл код объект скина скриншот the sims the sims сима форева\n",
            "\n",
            "prosims новость обзор дополнение файл код объект скина скриншот the sims the sims сима форева творчество династия нестандартный династия нестандартный династия вопрос предложение pda просмотр полный версия нестандартный династия вопрос предложение страница arnae 11.02.2010 22 14 ограничить способ учеба книга разговор профессор доз никакой комп курсовой фимка 11.02.2010 22 57 тьма ээть компа мочь быть этот время елен все изучать старинка развлечение быть муза инструмент книга электроника телефон быть крайний мера он звонить один раз когда выбирать специальность arnae 11.02.2010 23 45 фимка ой помнить универ казаться закон действовать отсутствие техника фимка 11.02.2010 23 47 тьма правило это нет отсутствие техника казаться логичный год революция хотя стоить бы внести это правило arnae 11.02.2010 23 50 фимка они рассмотреть отчим приезжать хороший быть он demeshka 12.02.2010 11 49 кхо такой скромный вопрос изменить муж рожать любовник ребенок делать ентый ребенок наследник :ah anastasijka 12.02.2010 13 10 снимать ограничение мочь кровный родственник основатель наследник её/его супруг/а если муж наследник жена подселить то если дать demeshka 12.02.2010 13 48 anastasijka спасибо нет изменить наследница любить вы отвечать цитата arnae 12.02.2010 18 19 demeshka demeshka 12.02.2010 20 47 тьма это прекрассный спросить правосудие ,оно снимать если сима умереть который снять ограничение если дать вопрос правосудие тусовка охрана политика demeshka 13.02.2010 01 57 досуг сим склонный чистота чистка раковин туалет ванн. идти общий уборка помещение подниматься досуг emija 13.02.2010 11 17 перекапывать старый запись ан грайв наткнуться проблемка вопрос мочь глупый хотеться бы уточнение дать возвращение студент родной дом оно считать подселение начитаться страуструп рассудить что оно переезжать съездить учиться глупый людь засчитывать игра вести старый рин вопрос актуальный что делать то что переселение другой лот брат сестра наследник терять право снятие ограничение если университетский старт быть возможность обойтись поездка потомок высший образование то начать взрослый основатель сам этот пункт ничто иметь мочь университет внести как исключение обязательный возвращение он основной лот anastasijka 13.02.2010 12 21 emija заменить спорный пункт переселение другой лот постоянный место жительство родственник наследник терять право снятие ограничение demeshka 14.02.2010 14 02 апокалипсис быть балл штраф emija 14.02.2010 22 52 anastasijka спасти что возвращение универ считать он подселение важный demeshka сколько помнить количество неделя если вы решить вести счет начать отсчет возвращение основатель колледж самый простой способ отмечать отдельный лист бумага каждый прожить сим-недель anastasijka 15.02.2010 00 22 emija университет разрешить правило общаг быть постоянный место жительство жильё время учеба универ отдых собственный дача никакой правило нарушать лишать сим они законный право снятие ограничение litchi 15.02.2010 23 10 новичок строительство дом строить дом лестница вести комната как мич то сима быть переодеваться верхний одежда мерзнуть быть жесть emija 16.02.2010 01 54 ежели кто захотеть делать тот глупость что рин строить дом фундамент строить дом фундамент свай это отказаться машина переоценить ее значение снятие армия трудный сократить площадь первый жилой этаж смешной размер *8 лестница впихнуть повторять мой ошибка ak demeshka 17.02.2010 12 48 спросить хотеть бы вопрос повод карьерный награда то как сима подняться вершина тот иной карьера то карьерный награда мочь весь семейство пользоваться anastasijka 17.02.2010 13 18 demeshka сима мочь пользоваться карьерный награда мочь размещать они лото приключение сима мочь обучать навык другой сим карьерный награда образование demeshka 17.02.2010 15 05 anastasijka сима мочь пользоваться карьерный награда мочь размещать они лото приключение сима мочь обучать навык другой сим карьерный награда образование это понять спрашивать другой образование правило читать уметь понять что крист мочь пользоваться книжный шкаф когда она снять ограничение это. мочь другой сима пользоваться этот шкаф подросток запомнить они мочь спрашивать взрослый сим цитировать правило они читать если что-то понятный то спрашивать anastasijka 17.02.2010 15 17 demeshka ты понимать насколько знать приключение ты снять крист никто участок мочь пользоваться никакой карьерный награда некоторый карьерный награда повышать досуг ребенок подросток мочь они пользоваться anastasijka 17.02.2010 16 14 уважать мой дама наш коллектив пополнить талантливый форумчанка келль новый династия рикардо давать протянуть она наш лапка единый радушный приветствие demeshka 17.02.2010 17 52 anastasijka насколько знать приключение ты снять крист никто участок мочь пользоваться никакой карьерный награда ты понимать проездить себя отметить что карьерный награда пользоваться nokiamen 17.02.2010 19 42 demeshka смотреть если снять пприключение то карьера награда мочь пользоваться тот кто работать этот область снять приключение шкаф мочь пользоваться тот кто работать образование снятие образование шкаф мочь пользоваться весь demeshka 17.02.2010 19 48 nokiamen ааааубухаха понять :d :ah спасибо разъяснение nokiamen 18.02.2010 17 56 ограничение кулинария” приготовить еда сима насыпать миска животное если вы планировать готовить то насыпать миска отставить такой образ снять кулинарии” этот запас корм животное мочь хватить снятие животный ограничение demeshka 19.02.2010 17 52 что-то запутаться снять образование подросток мочь ходить школа они тело прокачивать келль 20.02.2010 10 27 demeshka тело казаться прокачать ведь тина старик иметь навык тело 10 запретить покидать участок любой причина отъезд универ правосудие охрана порядок demeshka 20.02.2010 17 46 вопрос подросток тин какой разница то смущать подросток мочь ходить школа снять образование тина мочь выходить дом прокатить тело симсмерть 20.02.2010 18 27 demeshka тина подросток один тина это сокращение английский teen- ager подросток то быть когда снять образование прокачать навык тело 10 отправляться школа emija 21.02.2010 17 08 назреть вопрос шоу-бизнес питомец запрещать ребенок подросток тренировать умение предмет который повышать веселье что полезный книжка разрешить они читать сказать счастливый жизнь emija 21.02.2010 18 37 если кто знать эликсир жизнь это дополнительный время жизнь сокращение подростковый период тот кто собираться мочь отправлять дитятко универ отсутствие истерика этот сам универ как стремление подросток уходить красный сектор поить он зеленый радость единственный минус эликсир нужный demeshka 22.02.2010 01 02 назреть строить этаж .ну который помощь код набирать то что-то место дом anastasijka 22.02.2010 03 41 emija шоу бизнес питомец полезный книжек читать запрещать привести пример счастливый жизнь ограничивать игра demeshka использование код давать преимущество другой игрок запретить общий правило emija 22.02.2010 04 15 anastasijka готплясывать что-то радостной спасибо ограничение полезный книжка мы помнить да. demeshka 23.02.2010 17 56 обряснить то понять чтобы ограничение быть снять постоянный основа член семья должен снять ограничение преступный жизнь life of crime понять что чтобы животное ограничение сняться постоянный основа сем снять ограничение преступный жизнь преступный жизнь это криминал что nokiamen 23.02.2010 22 10 понять что чтобы животное ограничение сняться постоянный основа снять ограничение преступный жизнь преступный жизнь это криминал anastasijka 25.02.2010 12 32 запрещать покупать животное магазин общественный участок другой сим бизнес давать добавить продавать то получаться стул продать кошка сколько хотеть продавать вопрос когда сима стариться тело он прокачать значить работа низя снять охрана порядок команда дать он мочь снять сфера обслуживание питомец качество исключение один команда дать звонить работа чтобы уволиться demeshka 25.02.2010 12 45 anastasijka давать добавить продавать то получаться стул продать кошка сколько хотеть продавать давать вопрос когда сима стариться тело он прокачать значить работа низя охрана порядок команда дать он мочь сфера обслуживание питомец качество исключение один команда дать звонить работа чтобы уволиться это быть правило этот случай вы следовать приказать сима уволиться сфера обслуживание питомец anastasijka 25.02.2010 14 53 demeshka спасибо что заставить прочесть пункт ограничение конец вы мочь заставить сима уволиться работа если он пропустить один день если ограничение тусовка снять если ограничение охрана порядок снять увольняться anastasijka 25.02.2010 16 36 запрещать покупать животное магазин общественный участок другой сим бизнес давать добавить продавать то получаться стул продать кошка сколько хотеть продавать добавить ограничение спорт бизнес ограничение запрещать удалять использовать награда успех какой бы размер они быть все они удалять что узаконить это правило быть лишний emija 25.02.2010 23 24 anastasijka предлагать мучение отдельный ограничение ввести общий правило пункт вы мочь удалять использовать награда стремление действовать ограничение anastasijka 25.02.2010 23 40 emija совет оно хороший несвоевременный ибо нетерпеливый помучиться бизнес спорт пополнить нововведение казус игра произойти происходить знать радоваться мой сима перепутать дефолтный недефолтный скинтон глаз создавать новый непись самый разный вышеизложенный генетический данные дите рождаться кожа который кто родственник отродясь быть счастливый отец рветь себя последний волосенка зыркать ничто понимать жена глубокий транс хоть негритенка рождаться :ca вопрос кто-нибудь такой быть это бороться emija 25.02.2010 23 44 anastasijka злой работа жестокий график мешать появиться кто такой чтобы мешать кто-то усложнять себя жизнь как мой игра сима изгаляться такой быть emija 26.02.2010 07 55 просить развеять мой сомнение повод снять ограничение должен снять он оставаться свой пост сняться сопутствовать ограничение как весь жизнь считать глупый людь он достаточный жить лото demeshka 26.02.2010 12 14 emija вспомянуть ak да. запороть должен снять он оставаться свой пост сняться сопутствовать ограничение это забыть ток вспомянуть это писать помнить что читать такой вопрос аливка мочь снять какой ограничение раз охрана завалить anastasijka 26.02.2010 14 27 как ваш сима стать известный фигура криминальный мир они джоуя породниться вы нужный платить откупный разговор главарь местный мафия ваш подопечный рассказать то сколько время средства джоуя тратить свой страх четвероногий главарь послать свой датский дог указать джоуя его ошибка четвероногий брать доля ограничение животное мочь быть снять как питомец достичь вершина карьера если питомец отойти мир иной бросить работа достижение вершина карьера переехать ограничение вступать сила мочь быть снять другой питомец такой мудрёный перевод знать бы источник все вышеизложенный получаться что снять криминал снятие ограничение животное постоянный основа невозможный просить разубедить если приравнивать ограничение животное как временный тусовок политика охрана порядок то получаться что бы ничто запрещать мы бросать работа достижение вершина один этот карьер действовать правило предусмотреть что такой случай что главное бросать работа полпути вертеться голова фраза примерный содержание пока питомец находиться вершина карьера дань бандит платить нужный заметить ничто нет зависимость карьер питомец снятие снятие криминал знаток старый правило этот утверждение забрести мой бедный голова она закрепиться что касаться правосудие то присутствовать один туманный фраза чтобы снять ограничение тусовка slacker политика politics охрана порядок law enforcement постоянный основа снять ограничение правосудие какой-либо пояснение мой предложение снять правосудие снять тусовка политика охрана порядок приравнивать снять позволять сима пользоваться их выгода сима достичь вершина один этот три карьер работать что касаться животное карьер то пока питомец находиться вершина один три возможный карьер то как первый пункт ходить работа хозяин платить дань бандит предлагать запрещать снять криминал выгода снять ограничение питомец rirun 26.02.2010 21 34 дите рождаться кожа который кто родственник отродясь быть счастливый отец рветь себя последний волосенка зыркать ничто понимать жена глубокий транс хоть негритенка рождаться :ca вопрос кто-нибудь такой быть это бороться anastasijka называть geneticized скин стоить мочь они дело emija 26.02.2010 23 27 anastasijka если пункт то согласный считать что снять ограничение это то который снять пока снять он вылетать пост жить основной династийный лото естественный если ограничение снять его результат нестабильный он нужный поддерживать значить оставаться тот должность получаться город разрушить судебный система черт что закон бывший мэр уйти политика один факт свой существование обеспечивать стабильность издать они постановление честный слово помнить чтобы старый правило питомец позволять платить деньги мафия упор помнить бы предпочесть ужесточить условие это должен быть вершина охрана порядок питомец защищать семья питомец должен держать ограничение мы криминал снять что это весь теория указывать заинтересованный лицо мы браться думать карьера питомец снять криминаль должен действовать тот правило что человеческий снимать ограничение добавить 26 минута demeshka сколько помнить если плод снять ограничение успеть пользоваться путь нет anastasijka 27.02.2010 00 19 emija первый пункт все понятный рассуждение здравый что касаться второй вынудить согласиться ибо старый правило иметь туманный представление третий готовый поспорить брать то что обладать нехилой фантазия чтобы шоу -бизнес сфера обслуживание банда мафиозь приплести объяснение сам правило какой-то сырой недоработать такой чувство что кто-то решить придумать новый трудность сим задумываться толковый здравый обоснование свой выкрунтас если правосудие подчинить он карьера быть прямой связь то какой связь смена утка старик рэкетир они главарь это быть заниматься бред какой-то мочь они этот временный ограничение быть простой пока снять правосудие тусовка политика охрана порядок снять работать demeshka 27.02.2010 00 41 emija эх.. .жалко другой сима мочь этот ограничение снять когда нибодить rirun 27.02.2010 00 45 demeshka мочь аливка обидный что она трудиться трудиться все напрасный demeshka 27.02.2010 00 55 rirun дааа это лохотоваться пойти первый пост исправлять снять ограничение emija 27.02.2010 01 00 anastasijka отношение питомец криминал лезть ибо мой это касаться мой дело предложить что казаться здравый они этот снимать ограничение хотеться бы что ограничение это ценный идея блокировать они вдохновлять как кто-то вдохновить мысль полный запрет снятие ограничение питомец снятие криминал нэ мы ким скрывать что этот вопрос заинтересованный rirun 27.02.2010 01 10 свой династия выкладывать крайний мера интерес местный апокалипсис читать выразить свой скромный мнение вы если что он игнорировать бы стать закрывать возможность снять охрана тусовка политика бывать отлов нужный вакансия животное необходимость снять криминал бы оставить становиться вероятность избавление маразм первый поколение близкий 100 пока сима жить один он легкий насобирать корм животное если старт универский то безнадежность снимать второй неделя как правило это оставаться куча время что бы приручить животинка устроить она нужный карьера довести вершина криминал усложнять задача если единственный что смущать это логический связь рэкетир животное шоу бизнес то казаться придумать правдоподобный история anastasijka 27.02.2010 18 49 emija rirun получаться отстоять свой точка зрение что бояться бы кто подумать что как создатель тема пытаться подстроить правило себя что касаться то это легкий довести кошарика вершина карьера снять кулинария первый поколение ты писать rirun опробовать собственный шкура 2-ой поколение результат оказаться неутешительный четвероногой сметать свой мисочка два штука день догоняться припастить тухлятинка это оно умудриться перепробовать весь возможный карьера то выбрать тот ответ карточка то отказываться идти работа пропускать заветный день когда этот чудо снять ограничение мы поспешить он избавиться отдать рука пробегать синий старичка понимать что день два человеческий половина дом ничто кушать остаться зверюга мочь отказаться идти работа завтрашний день толк снять ограничение если оно временный это все то что огромный разница временный ограничение сим животное если сима платина отправить работа смотреть то что он есть спать сутки то животное такой состояние ничто поделать платина он существовать приказать отменять он желание мы мочь думать господин товарищ это оно легкий вы казаться demeshka ничто первый пост изменять ты нужный ограничение снять пока снять правосудие мочь пользоваться его выгода что-то путать дойти как криминал этот злосчастный снить кошарика то который слава бог додуматься отдача добрый рука работа уволить улица подобрать животное ограничение сняться ведь он прежний вершина карьера быть гений келль 27.02.2010 19 43 уффф запутаться животное снить криминал животное быть снимать временный ограничение emija 27.02.2010 19 47 anastasijka 1. животное криминал наш большой собака один миска хватать сутки следить чтобы другой животное крутиться дом она подкрепляться хотя мочь это кошак такой проглота отказаться идти работа оно подвозить они отличие опаздать школьный автобус ребенок общий этот пункт лезть повод снять ограничение сим то чтобы оно пока снимать считать снять пока сима снять он оставаться должность тот самый который снимать ограничение вылететь то как ограничение стать постоянный оно сила пока вернуться уйти герой отставка весь преступный мир вздохнуть облегчение он насмотреться то что начаться вернуться навести порядок аливка мочь снять ограничение если вернуться работа достичь вершина когда кто-нибудь снять правосудие тусовка казаться вариант логичный жестокий demeshka 27.02.2010 20 13 келль снить криминал животное быть снимать временный ограничение ограничение сниметься emija аливка мочь снять ограничение если вернуться работа достичь вершина когда кто-нибудь снять правосудие тусовка согласиться бы весь конечность свой телецо получаться один туго работа устроиться снять ограничение emija 27.02.2010 20 23 demeshka правило сказать что один сима снимать один ограничение ничто тусовок мешать сима снять один ограничение два раз нет хотя если кто-то настаивать этот упрощение быть rirun 27.02.2010 20 41 anastasijka свой династия снять кулинария возвращать здравый ум свой первый поколение то что заглючить животинский карьера единственный шанс получить повышение быть правильный ответ карточка шанс который дожидаться быть временный основа животное сим отличаться казаться что снимать постоянный основа упрощать жизнь это мой мнение кой случай считать что ты менять правило себя животное приказать идти работа другой дело что питомец должен быть это замучить то смысл что бы команда животное обучить содержать пристойный настроение если животное воспитать то он сказать идти быть спать туалет такой образ привести порядок работа дойти как криминал этот злосчастный снить кошарика то который слава бог додуматься отдача добрый рука работа уволить улица подобрать животное ограничение сняться ведь он прежний вершина карьера быть гений этот ситуация разный форум разный рассматривать считать что это финт ухо нужный снять тусовка т.к быть отдать кто-то животное пропустить свой рабочий день снять временный основа означать что ограничение снять сима находиться вершина карьера если он уволиться он понизить то ограничение вступать сила снятие правосудие этот ограничение быть считаться снять постоянный основа если тот сима находиться вершина карьера прийтись другой член семья снимать он новый demeshka то что бы устроить аливка охрана прийтись снять тусовка временный основа demeshka 27.02.2010 21 16 emija что что :d rirun demeshka то что бы устроить аливка охрана прийтись снять тусовка временный основа она пхать она мечта свой пытаться исполнить anastasijka 27.02.2010 23 21 поболтать пора голосовать ждать мнение тот кто публиковать раздел свой династия тот кто играть себя снять правосудие снять тусовка политика охрана порядок приравнивать снять позволять сима пользоваться выгода снять ограничение сима достичь вершина один этот три карьер находиться вершина карьера если он уволиться он понизить то ограничение вступать сила снятие правосудие этот ограничение быть считаться снять постоянный основа если тот сима находиться вершина карьера прийтись другой член семья снимать он новый снять криминал снять карьера животное приравнивать снять позволять сима пользоваться выгода снять ограничение четверолапый достичь вершина один этот три карьер находиться их вершина если он уволиться он понизить то ограничение вступать сила снятие криминал этот ограничение быть считаться снять постоянный основа если весь тот животное находиться вершина карьера прийтись другой питомец снимать он новый если питомец достижение вершина карьера быть отдать продать кто-то последствие снятие криминал он подобрать вернуть семья то условие что он находиться вершина свой карьера ограничение считать снять как его возраст момент возвращение быть такой как когда он семья уйти тусовка снимать нужный если сима достижение вершина карьер тусовок политика охрана порядок умереть выйти пенсия последствие снятие мистика он вернуть семья то условие что он находиться вершина свой карьера ограничение считать снять как его возраст момент возвращение быть такой как когда он семья уйти тусовка снимать нужный мой мнение если остальной голосовать польза 2-й пункт извинить если быть категоричный грубый бодишоп стать ошибка вылетать этот разнокожий сима этот бедный кошка чтобы она пустой быть весь запас семейный поточить мы пятеро малыш поднимать если бы знать что ограничение животное временный брать бы этот невезучий животинка какой коврижка исти анчик солнышко быть друг сказать какой код прокачать навык избавляться то кидаться мой подросток книжка кошка лото помин быть rirun 28.02.2010 00 07 2. разница сим увольнять никто воскрешать знать учитывать что они разводить anastasijka пятеро ai кошатина усложнить жизнь anastasijka 28.02.2010 00 31 rirun сим увольнять никто воскрешать знать учитывать что они разводить если знать :ah сам жизнь воскрешать сим nokiamen 28.02.2010 07 49 2. это явный лазейка starzzzz 28.02.2010 10 27 писаться почитывать ваш разговор принять участие если позволить принцип думать что делать делать мы хммм задумываться этот пункт если питомец отдавать хороший рука то новый хозяин оставаться это мой усмотрение что бедный животина мучить передавать рука рука оно жена вещь оно живой существо раз один раз ты он избавиться то подселять он стоить ведь животинка новый хозяин привыкнуть это весь рассуждение далекий игра кошка собака тосковать свой хозяин общий новый животное брать хотя принцип быть если кто-то быть делать запутаться это умереть это этот три профессия относиться остальной курс воскрешение сима продолжать работать нуль они все начинать наверна думать тот момент пока кто-то сим уйти кто-то мистика снять это время пройти что счастливый семейство составить труд подниматься вершина карьера emija 28.02.2010 10 52 заб разница отношение карьер животное криминал мы стараться лезть ибо тема вызывать противоречивый эмоция подпункт тусовка снимать нужный ибо заморозка возраст сима питомец отнють означать остановка время город рабочий место частность вампир смерть излечение один возраст замирать это значить что они пропускать рабочий день снять тусовок питомец большой желание обойти запрет сказать что он другой хозяин жить чудо-корм питаться работа посещать умереть лото сима рабочий день пропустить сохраняться работа оживленный добавить минута anastasijka код разработчик казаться двигать навык когда угол экран черный цифра появиться казаться это нужный выйти лот сводить сим город выйти экран городок вернуться разница всякий случай путешествие это работать anastasijka 28.02.2010 13 59 emija сожаление спасибка ставить благодарить нужный помочь пока народ голосовать мочь помочь правило снять медицина наука правосудие счёт такой набор снять использовать лампа джинна покупать осветительный прибор посудомоечный машина уплотнитель мусор телевизор прокачка тело телевизор досуг подниматься келль 28.02.2010 14 01 думать голосовать это апокалипсис должен быть трудний чем обычный династия что голоть заб думать голосовать забирать петс другой хозяин снятие бизнес запрещать покупать животное магазин общественный участок другой сим бизнес если отдавать приют то разведка бизнес сима мочь брать домашний питомец приют разведка бизнес что оставаться один надежда то что животное сам вернуться вероятность это маленький demeshka 28.02.2010 14 18 цесли думать мы играть :ah nokiamen 28.02.2010 14 48 такой набор снять использовать лампа джинна покупать осветительный прибор посудомоечный машина уплотнитель мусор телевизор если ваш правило то лампа джина кукла вуд мистика привязать казаться логично прокачка тело телевизор досуг подниматься да. anastasijka 28.02.2010 15 05 nokiamen спасибо досуг прокачка тело телевизор стоить место подниматься litchi 28.02.2010 16 11 2. хммм н1о знать если они увольнять вводить код разработчик кликать сима зажать шифт выбирать Спавно. simmaker появляться малыш щелкать он выбирать имя сима который нужный сменить навык выбирать уровень какой навык сменить выбирать уровень навык мой случай это быть min все удалять малыш стоить он что ничто нарушать быть другой способ ввести тот код разработчик выйти сохранение городок войти тот семья нажать нужный навык протянуть он нужный уровень помощь simpe помощник rirun 28.02.2010 19 16 снять медицина наука правосудие счёт такой набор снять использовать лампа джинна покупать осветительный прибор посудомоечный машина уплотнитель мусор телевизор правосудие соотноситься медицина наука оно любой случай счет повод джина знать все остальной покупать anastasijka 28.02.2010 19 31 rirun правосудие соотноситься медицина наука знать он счёт брать спасибо проверка skycat 01.03 2010 15 57 anastasijka слушать мочь скрин допуматериал который ты игра установить выложить мочь сказать что твой ребенок другой скин рождаться anastasijka 03.03. 2010 02 01 skycat если ты иметь вид папочка downloads она один скрина читабельный вид уместиться сфоткать ты вид скинтон кас rirun объяснять что проблема набор скинтон глаз конкурировать друг друг когда установить очередной такой набор шкурка заразка кладовка ссылочка найти появиться этот проблема они удаление нормализоваться то дите династийный семейный кожа получиться дефолтной то хороший оказаться что закачка быть один неполный конкурировать наборчик скинтон он нравиться пока он оставить emija 04.03.2010 16 40 интересный что делать карьерный награда музыка один сторона карьерный награда действовать ограничение родной профессия приключение другой это гитар она должен распространяться ограничение художник танец как гидропонный садик тусовок запрещать естественник повод что мы пол ведро слеза налить мало общий просить что-нибудь решить внести правило то мы вопрос актуальный skycat 04.03.2010 18 12 anastasijka иметь вид окошко дополнительный материал который загрузка район появляться конкурировать это что куча всякий скинтон дефолтный правда anastasijka 04.03.2010 19 44 результат голосование самый ближайший время занес правило снять правосудие снять тусовка политика охрана порядок приравнивать снять позволять сима пользоваться выгода снять ограничение сима достичь вершина один этот три карьер находиться вершина карьера если он уволиться он понизить то ограничение вступать сила снятие правосудие этот ограничение быть считаться снять постоянный основа если тот сима находиться вершина карьера прийтись другой член семья снимать он новый снять криминал снять карьера животное приравнивать снять позволять сима пользоваться выгода снять ограничение четверолапый достичь вершина один этот три карьер находиться их вершина если он уволиться он понизить то ограничение вступать сила снятие криминал этот ограничение быть считаться снять постоянный основа если весь тот животное находиться вершина карьера прийтись другой питомец снимать он новый если питомец достижение вершина карьера быть отдать продать кто-то последствие снятие криминал он подобрать вернуть семья то условие что он находиться вершина свой карьера ограничение считать снять тусовка нужный снять если сима достижение вершина карьер тусовок политика охрана порядок умереть выйти пенсия последствие снятие мистика он вернуть семья то условие что он находиться вершина свой карьера ограничение считать снять как его возраст момент возвращение быть такой как когда он семья уйти тусовка снимать нужный лишить логика смотреть как это отнестись играть два нога усложнение танец какой-то смешной ограничение этот доп материал два прийти скинтон ты личка сбросить emija 04.03.2010 20 28 anastasijka браться считать что смешной что ибо мы женитьба таэна журналистика охрана перестать впечатлять ничто иметь этот усложнение чтобы спрашивать такой случай сохранять этот гитара недоступный место дом багаж другой сима хотя ринам судить все удаться использовать она завершить апокалипсис nokiamen 04.03. 2010 22 59 логика лото полный снятие ограничение запретить размещать три награда звезда слава перо череп статуя все остальной снятие соответствующий ограничение приключение размещать недоступный симой место это мой мнение решить anastasijka 04.03.2010 23 10 emija чтобы спрашивать такой случай сохранять этот гитара недоступный место дом багаж другой сима сколько помнить хранить любой количество карьерный награда инвентар никто один ограничение запрещать подарок дарить что ничто мешать гитарка твой окаянный наследство передавать ждать мнение другой играть твой предложение очередной раз помучить правило nokiamen логика лото полный снятие ограничение запретить размещать три награда звезда слава перо череп статуя логика то оно правило то слово elani 05.03о 2010 23 54 счет курсовой универ бы использовать этот http://www.thesimsresource.com/members/buntah/downloads/details/category/sims2-objects-furnishing-electronics/title/blacktypewriter 20mesh/id 171820 писать машинка перекраска компа смотреть игра работать цена соответствовать качество стоить сие чудо 50 симолеончик досуг +7 если ставить ограничение как апокалипсис писать курсовой роман манять 06.03.2010 18 50 все привет несколько вопрос писать что использовать пользовательский предмет если они хакнуть понять отменять действие старик противоречить ограничение то один династия видеть старик комп другой комната запирать пришлять личка пользоваться код вычитание деньги пол день мучаться получиться фамилия рамирес быть благодарный nokiamen 07.03.2010 01 15 понять отменять действие старик противоречить ограничение то один династия видеть старик комп другой комната запирать нужный пришлять личка пользоваться код вычитание деньги пол день мучаться получиться фамилия рамирес быть благодарный прислать манять 07.03.2010 01 39 раз огромный спасибо ответ оставаться открытый вопрос скачать объект то середина тема обсуждать это выясниться что это быть много год правило измениться skycat 07.03.2010 11 20 anastasijka это запрещать себя решить что раз запретить то делать как предлагать nokiamen карьерный награда чердак который нет доступ стоять подождать быть пункт правило повод награда сима мочь пользоваться карьерный награда мочь размещать они лото т.е если хранение награда нарушать другой ограничение то думать ставить они крытый чердак забыть они снятие приключение другой карьер ограничивать их использование добавить 17 минута народ хотеть оплата дань денежный перевод http:/ Ulidara.meteudeuruzfilfile 1582 3358_money.zip пользоваться это хак он делать апокалипсис облегчать еженедельный подсчет сохранять любить призрак кровать вписываться атмосфера первый он выполнить вид счет заполняться отправляться почта человек михей который доверять тестить этот предмет проверять правильность подсчет дань говорить что все сходиться быть возможность счесть дань учет кровать они актуальный мистика перевод выдавать смешной текст который вставить отчет вставлять http i081.radikal.ru 1003/be/1de6477b4fe3t.jpg http:/ /radikal.ru/f/i081.radikal.ru/1003/be/1de6477b4fe3.jpg.html сумма вычислять как 60 предмет стоимость 100 смн ет метод оплата дань оригинальный правило zerva 07.03.2010 16 54 anastasijka мочь опознание пояснить когда установить очередной такой набор шкурка заразка кладовка ссылочка найти появиться этот проблема это генный модифицировать скинтон то быть они мочь раздаваться горожанин рождить ребенок если родитель такой скинтон нет быть такой глазок четыре цвет скинтон шесть оттенок глаз они использовать такой скинтон глазок появиться последний время что скачивание смотреть genetic они custom. anastasijka 07.03.2010 17 05 zaraz знать смотреть это беда скинтон шикарный skycat денежный перевод нужный спасибо пробовать то пока заставить весь свой немаленький семейство ничто заниматься постоять минуточка подождать пока весь мебель перепрод тяжелый 09.03.2010 14 30 вопрос возникнуть когда начинать война читать правило тема вопрос понять когда когда подросток становиться первый ребенок основатель когда подросток становиться наследник когда подросток становиться взрослый сим slow elani 09.03.2010 17 22 общение заметить что если заставить сима читать книга жанр любовный роман то повышаться общение досуг elani 09.03.2010 18 24 seele когда наследник становиться взрослый сим elani 12.03.2010 22 12 вопросик мочь студент заселяться квартира 60-ый год сюжет мой выгнать общежитие они должен быть снимать небольшой фургончик двор дом один бабуля фургончик маленький два комнатка больший койка буржуйка влезать фимка 13.03.2010 12 30 elani как это студент универ мочь снять квартира дом seele 13.03.2010 14 09 фимка получаться строить квартирный дом студенческий городок заселять сим все они жить квартира учиться компьютер скрин быть это подтверждать elani 13.03.2010 14 27 фимка делать фимка 13.03.2010 19 33 elani какой смысл они все равный выселять простой провести сюжет линия переселить они другой общежитие гламурный 13.03.2010 19 44 фимка :ai пробовать elani 18.03.2010 14 42 один вопрос назреть какой поколение быть заселять семья обычный квартира когда кухня ванная коридор считать комната фимка 18.03.2010 15 52 elani это все равный какой ездить отпуск покупать дача получить возможность переселиться отдельный квартира мочь сима достичь вершина карьера следующий область наука музыка танец политика актер ученый партийный шишка быть почьта elani 18.03.2010 18 06 фимка все найти вопрос отпадать казаться что квартира входить один комната кухни-ванный коридор однокомнатный квартира это комната кухня ванная фимка 18.03.2010 19 09 elani весь видимость если это коммуналка количество комната один мало чем человек семья тип мама жить кухня келль 23.03.2010 20 17 появиться такой проблема газета приносить знать что это связать убрать газета рюкзачк оставить все равный газета принести ak это исправить cromachy 23.03.2010 21 00 келль казаться такой случай пробовать повыкидывать весь газета другой сторона раз инвентар штука иметься то ежедневный принос газета обязательный келль 23.03.2010 21 29 condamne выкидывать бояться принять что мочь нужный вакансия один тот архитектура журналистика игра появляться армия бы правосудие криминал найти cromachy 23.03.2010 21 36 келль вы уберить газетка инвентарь пара часик хороший сутки должен меняться келль 23.03.2010 21 40 condamne раз огромный спасибо протестировать la_maladie 25.03.2010 15 00 elani если помнить то первый поколение как раз комната это комната ванна кухня дедать общий фимка 25.03.2010 18 16 все правильный весь квартира это один комната ванная туалет кухня общий если кто-то сим семья достигать вершина один перечислить карьер ты мочь пересилить они полноценный квартира то быть свой санузлом кухня если ты семья три сима то жилой комната ты мочь быть два начинать третий поколение переселять отдельный квартира всякий вершина карьера zerva 29.03.2010 13 59 мочь кто опытный объяснить если основатель начинать колледж то действовать никакой ограничение указать касаемо университет то быть мочь пример купить основатель кровать бодрость он кампус приобрести уплотнитель мусор отправить студентка отпуск допустить мочь сима основатель колледж выучить весь навык прочесть весь книга тип счастливый жизнь физиология elani 29.03.2010 18 23 zaraz катастрофа начаться emija 30.03.2010 16 46 мы такой дело получиться жена наследник пропасть игра она видеть мы нет ромбик висеть пустой место любить супруг обнимать воздух предмет летать дому. что мы делать перезагрузка чистка папка как тяжелый глюка поход зеркало шкаф выход город оно деваться спасти временный выселение выселить подселить деньги вычесть код лото пройти минута никакой выигрыш победить глюка мы извлечь задаться вопрос быть применять радикальный мера cromachy 30.03.2010 18 15 emija думать раз глюк быть такой серьезный что ничто помогать то нужный zerva 30.03.2010 18 41 emija глюк игра никто защитить обладатель лицензия zerva 30.03. 2010 18 46 как апокалипсис зеленый вопрос многоуважаемый опытный апокалиптика если ответ задавать вопрос быть правило тыкнуть они нос наука запрещать пользоваться личный электронный устройство исключение мп3-плеер то быть сима мочь он слушать его телодвижение который он выполнять когда слушать музыка считать танец который исполнять снятие ограничение танец самолетик газета журналистика разрешать они делать то быть играть они непонимание телефон допустить шоу бизнес запрещать покупать парфюм любовный зелье если он снима мочь вызвать гадалка купить это она если это писать показать то мочь слепой другой пример кулинария ее снятие допустить заказать пицец период 12 ночь 12 день вторник emija 30.03.2010 18 51 спасибо понять что лицензия все равный счастливый emija 30.03.2010 19 11 zaraz цитата правило убейти видеть что мп3-плеер исключение личный электронный устройство мобильный телефон mp3 плеер разрешать использовать тот случай если основатель привезти они колледж этот предмет подлежать передача другой сима основатель должен забрать они могила да- батарейка умереть повод телодвижение танец как таковой это назвать сложный думать мочь выглядеть то что остаться танец выжить самолетик газета играть гадалка доставка пицец если помнить вызывать услуга себя людь весь этот категория относить тот самый прислуга который запрещать нанимать бизнес вопрос интересный zerva 30.03.2010 19 22 emija иметь исключение что сима -основатель привезти колледж этот предмет как писать правило мой случай мп3-плеер то быть он он мочь слушать смерть если поразмыслить то они причислить прислуга инти смотреть что сказать это другой вопрос скачать себя zip архив правило распечатать читать дом пар вникнуть старичок маразматик быть это снимать они маразматика если тело прокачать вы простить если вопрос глупый обилие прочий ограничение голова небольшой кавардак этот повод как понять они управлять если допустить устроить сима работа сознательный возраст быть он старик посещать работа прокачить тело вопрос повод работа допустить симка снять ограничение она мечта жизнь другой сфера она устроить исполнение ее мечта снимать ограничение этот второй работа emija 30.03.2010 19 37 zaraz если основатель привезти универ если запретить танец бы запрещать нужный какой-то способ зависеть набор снять ограничение присоединить семья животное устроить он работать сфера обслуживание довести вершина карьера хороший это снять криминал чтобы прийтись трястись бы питомец умереть сбежать вылететь работа отнять то самый старичок разум отменять они действие который нарушать действовать ограничение если работа он устроиться маразм то прокачить тело мочь продолжать она ходить мы приключение снять весь работа очередь помнить ограничение тусовка один область устраиваться один раз жизнь zerva 02.04.2010 09 44 вопрос если сима который мы поселять вершина карьера это считать снять ограничение кто ограничение мочь снимать наследник они супруга брат сестра жить дом обоирокн клеить\\ставить ограничение двухэтажный окно архитектура покупать вещь категория картина скульптура ковер запрещать художник категория растение запрещать учёный естественник то быть штор покупать объект категория разный три кружочка если что-то прописать правило задавать вопрос указать то малость подслеповатый emija 02.04.2010 12 13 считать казаться прийти вывод что любой потомок основатель жить основной лото мочь снимать ограничение супруг( наследник один подселить сима поколение архитектура высокий весь стена окно запрещать сколько помнить перемещать удалять запрещать ставить сколько штор разный казаться ничто запретить zerva 03.04.2010 01 05 emija глючный бывать пиратка ведь вырезать быть пиратский аддон петс весь животное немыя быть что мочь найти правило описать животное их ограничение помочь пожалунутьст emija 03.04.2010 01 46 zaraz а-а. человек сплошной лицензия что это отпадать карьера питомец скачивать архив самый конец таблица криминал снятие который этот ограничение снимать правило питомец вселение работа первый пост темка раздел питомец предпоследний ряд rirun 03.04.2010 01 48 zaraz животное ограничение прочесть файлика который прикрепить первый пост весь ограничения.zip самый конец таблица ignis 03.04.2010 11 47 мера игра возникнуть вопрос если красть вещь занимать два клетка их повторный покупка они должен ставить стоять другой место emija 03.04.2010 13 57 ignis смысл прийти игровой вор красть хотеть это уплата дань считать что они пропадать должен стоять свой место чувствовать раздел оживиться мр-р-р. ignis 04.04.2010 00 54 emija игровой понять спасибо вопрос использовать компьютер мистер хамбел он дарить emija 04.04.2010 01 12 ignis использовать дань он платить выйти хотя скрипка поступить использовать он весь первый неделя отдарить воскресенье купить самый дешевый комп думать это самый выгодный вариант ignis 04.04.2010 01 35 emija спасибо поступить ignis 04.04.2010 19 42 один тупой вопрос тоддлер мыть nokiamen 04.04. 2010 19 55 один тупой вопрос тоддлер мыть они пеленка менять советовать взросление школьник менять отмыться быть сложный ignis 04.04.2010 19 58 nokiamen нет вариант менять пеленка сказать он нет что мы горшок добежать успеваемовнуть гигиен все равный падать то быть вариант нет starzzzz 04.04.2010 20 03 ignis чтобы дите описаться гигиен нуль уходить появляться этот действие менять пеленка ignis 04.04. 2010 20 10 starzzzz все она удержать думать если весь время быть успевать горшок то гигиен падать нефиг nokiamen 04.04.2010 20 26 ignis чтобы дите описаться гигиен нуль уходить появляться этот действие менять пеленка много приучать горшок ca zerva 05.04.2010 18 43 раздел декор подраздел разный три кружка разрешить покупать ящичка ванная который если вешать раковина давать функция умываться чистить зуб что-то запрещать он гигинна детишки поднимать снежок салочка прочий игра ребенок играть что-то запрещать emija 05.04.2010 18 58 zaraz маротра чистить зуб бы запретить медицина ибо ящмчек один облегчение прийти последний дополнение это темка новый правило обращаться ребенок кружиться спорт остальной казаться разрешить zerva 05.04.2010 23 13 дополнение небольшой раздел декор подраздел разный три кружка разрешить мочь стоить запретить покупка ящичка ванная который если вешать раковина давать функция умываться чистить зуб он гигинна детишки поднимать как предложить вопрос emija внести он ограничение медицина ибо ящичка один облегчение прийти последний дополнение nokiamen 06.04.2010 00 02 раздел декор подраздел разный три кружка разрешить мочь стоить запретить покупка ящичка ванная который если вешать раковина давать функция умываться чистить зуб он запретить bh порядок zerva 08.04.2010 13 16 один вопрос девать бутылочка который ребенок переход подростковый группа давать использовать продавать дарить лежать кармашка случиться глюк ящик счет оплатить ящик закрыться приехать налоговик этот случай давать пенальти то мы иж три репомен http i044.radikal.ru 1004/3a/6c853dad6b9at.jpg http:/ /radikal.ru/f/i044.radikal.ru/1004/3a/6c853dad6b9a.jpg.html emija 08.04.2010 14 30 zaraz дарить все что возбранять класть карман сколько помнить запрет распространяться сварить котел зелье что получить взросление ничто запретить рюкзак аккуратно помнить предмет рюкзак один сима продавать снятие бизнес это глюк что давать игра чистый апокалипсис оно налоговик казаться положенный привычка обычный династия отмечать апокалипсис этот гад правило отсутствовать фимка 09.04.2010 20 58 собраться счесть балл обнаружить что знать они считать вопрос какой принцип считать балл советский династия как обычный быть какой-то специфический момент zerva 09.04.2010 23 03 прокачка навык как понять скакалка прыгать гимнастика музыка запрещать музыка прочий запрещать спорт прокачивать навык тело йога то представлять снять спорт который если ошибаться полный шкала навык тело нужный что прокачивать тело снятие спорт то что-то затруднение cromachy 09.04.2010 23 34 zaraz пункт навык прокачивать помощь магнитофонный зарядка это самый дело ничто запрещать качаться помощь йога emija 10.04.2010 18 38 вопрос технический часть магазин отображать иконка пожилой возраст одежда пожилой мочь покупать пожилой сима это бороться то брать ограничение одеть сима свой голова zerva 10.04.2010 23 35 emija хмать пытаться вспомянуть что самый игра это неприятный особенность присутствовать сойти магазин пожилой сим он купить старичок одежда молодежь zerva 10.04.2010 23 37 condamne сима мочь использовать музыкальный инструмент балетный станок танец музыкальный центр прочий попадать этот категория мыслить логика все что звук издавать запретить emija 11.04.2010 00 18 zaraz музыкальный центр прочий электроника запретить танцевать оно сам себя она музыкальный инструмент являться этот пункт попадать никакой бок то сколько знать магнитофон конкретно самый дешевый магнитофон являться единственный способ прокачать культура тело снятие ограничение университетский старт быть зарядка телевизор он как раз запретить наука emija 11.04.2010 00 23 zaraz ограничение должен купить подселить сима одежда день вселение тот число стариковский другой вопрос история показать сие событие технический часть подселить пожилой сима цель купить одежка основательница муж быть мы один знакомая нужный возраст весь привезти они себя ресурс обязоваться упаковать дорога выселить он торжественный закупка то представлять весь это приплести отчет келль 11.04.2010 00 36 появиться такой вопрос провести свидание мы дарить игральный автомат клетка который находиться он площадь 8х8 крыша нарушать это музыка если двигать он собираться удобный пользоваться использовать прямой назначение играть cromachy 11.04.2010 08 12 келль думать нарушать ибо предмет который приносить доставлять газета счет тбп. нарушать этот ограничение уверенный вопрос образовываться соединять семья побочник anastasijka 11.04.2010 10 16 келль подарок согласный condamne condamne вопрос образовываться соединять семья побочник ээть это ты иметь вид объединить поколение один семья все проиграть побочник который предел династийный семья жить вещь правило определить они мочь снимать ограничение жить должен тот условие что они везучий родственник zerva 11.04.2010 12 59 emija condamne спасибо помощь значить йога магнитофон emija 11.04.2010 14 04 побочник такой дело снятие апокалипсис основной лото мы пользоваться то что ничто связать разрешить побочник усыновить дитенок подселить симка ребенок вопрос рассказывать этот семья официальный отчет завершение мучение оставить сколько -там килограммовый архив anastasijka 11.04.2010 14 27 emija вопрос рассказывать этот семья официальный отчет завершение мучение оставить сколько -там килограммовый архив бы бы рассказать то любой новость побочник радость ты они отдать добровольный усыновление удочерение тема быть подумать приютить кто-нибудь свой соседство emija 11.04.2010 15 15 anastasijka отдать ждать желать рина проблема бы никакой быть апокалипсис снять быть ан граиш be_a_utiful 11.04.2010 16 13 что-то найти правило мочь искать назреть следующий вопрос если начинать сим студенческий возраст обязанный сима закончить универ если обязанный то сима закончить вуз привозить себя три предмет zerva 11.04.2010 16 41 be_a_utiful нет универ заканчивать необязательный завершение учеба обязательный предмет привозить три если ошибаться освободиться место лишний предмет диплом окончание выдать zerva 11.04. 2010 20 29 emija думать такой дельце провернуть забыть записать сколько семья быть вселение деньги одежда стоить вычитать свой ресурс привезти быть покопаться нюанс игра что это такой порядок магазинчик zerva 11.04.2010 22 50 общий жена наследник скончаться успеть снять мы ограничение оставить мы сын мы девочка хотеть наследница повестка день вопрос наследник пригласить дом новый жена она быть снять ограничение cromachy 11.04.2010 22 59 zaraz нет подселять один непись поколение anastasijka 11.04.2010 23 10 emija ааа ясный что два лапка фимка 11.04.2010 23 17 ау собираться флудить ответить мой вопрос пост высокий zerva 12.04.2010 00 18 фимка думать категория как обычный балл ограничение http:/ /prosims.ru/showpost.php?p=615913&postcount=2 штраф если быть они никуда фимка 12.04.2010 00 21 zaraz считать балл ограничение один поколение мочь составить этот раздел отдельный правило подсчет балл нет половина возможность сажать дерево семья основать бизнес ariane 12.04.2010 22 47 знать говорить компьютер мистер хамбл продать приносить деньги открывать коробка перейти режимпокупка продать доллар anastasijka 13.04. 2010 02 48 zaraz снимать ограничение мочь кровный родственник основатель наследник её/его супруг/а супруг супруга быть существительное единственный число что снять ограничение второй жена получиться количество жена наследник правило ничто нет оно понятный кто нужный лишний рот который то ограничение никакой снять мочь вакантный восьмой место возможный ребенок занимать cromachy 13.04.2010 07 31 anastasijka не-не-на справиться апокалипсис рин быть такой вопрос как решить дело супруга наследник пинстар писать вселять один непись поколение продолжение род nokiamen 13.04. 2010 12 04 пинстар писать вселять один непись поколение продолжение род как понять ваш правило вы как раз pinstar 1161 правило придерживаться они снимать ограничение мочь кровный родственник основатель единственный исключение это жена основатель ваш правило ребенок сестра мочь снять это племянник основатель двоюродный брат сестра быть предположить что мочь быть исключение anastasijka 13.04.2010 12 44 nokiamen как понять ваш правило вы как раз pinstar 1161 правило придерживаться оно быть правило писать сборная состоять тот что опубликовать первый четыре дополнение обработать дописк эми ее анграйх arnae 13.04.2010 15 51 фимка балл ограничение считать завершение ограничение как весь они пожизненный конец династия то считать завершение балл экстрим добавляться неделя если ограничение провалить когда действие ог-ния завершаться фимка 13.04.2010 20 32 тьма ага понятный как это мочь составить этот раздел отдельный правило подсчет балл нет половина возможность сажать дерево семья основать бизнес arnae 13.04.2010 22 25 фимка отсутствие некоторый пункт мешать считать отнять балл невозможный действие общий сумма категория выполнять ей фимка 14.04 2010 10 20 тьма ты сказать представлять себя система подсчет что-то вычитать самый дело другой иметь стоить придумать какой-то специфический советский пункт который бы быть считать балл ясный понятный что то что нет счесть это делать какой-то момент заменять соответствующий время be_a_utiful 14.04.2010 17 01 запрещать использовать сон кровать диван повышать уровень энергия этот предмет мочь быть купить использовать любой другой цель если снять ограничение охрана этот уровень повышаться -ть заменить кровать их размер должен совпадать размер старый как местоположение данный ограничение затрагивать младенец тоддлер они мочь оставаться кроватка маленький чтобы поддаваться параной отнести оборотня пришелец вампир зомби данный ограничение касаться как сим навык культура тело 10 кто кто испугаться ваш сима назвать гость безопасность питомец понять навык культура тело 10 покупать кровать высокий уровень энергия чем anastasijka 14.04 2010 17 06 be_a_utiful покупать спать она cromachy 14.04.2010 22 56 возникнуть вопрос мы основной ветка случиться большой супружеский размолвка разводиться апокалипсис али как если вступить сила ограничение снять супруг наследница это учитывать что продолжение род он причастный emija 14.04.2010 23 12 condamne если он приходиться отец следующий наследник вступить ибо близкий кровный родственник наследник cromachy 14.04.2010 23 18 emija как раз приходиться такой случай легкий разводиться emija 14.04.2010 23 28 condamne маротра знать бы счесть ограничение снять это махровый имхо. zerva 15.04. 2010 13 36 перечитывать правило возникнуть вопрос чужеземный технология снять ограничение два способ сима любой возраст быть похитить пришелец сима становиться сумасшедший ученый шеф сима бр..р. держать инвентар нло свой лот эмя понять второй способ понятный что нужный достичь вершина карьера это что такой нло 0_о он достать образование чудо шкаф который идти как награда этот карьера мочь пользоваться все иметься взрослый сима студент nokiamen 15.04. 2010 16 36 образование чудо шкаф который идти как награда этот карьера мочь пользоваться все иметься взрослый сима студент если снять образование приключение то сима становиться сумасшедший ученый шеф сима бр..р. держать инвентар нло свой лот ель понять то иметься спутник который должен падать чию-то несчастный голова starzzzz 18.04. 2010 09 01 какой ограничение запрещать передвигать предмет занимать много один клетка помнить что быть такой пункт несколько раз пересмотреть правило что-то мочь найти слепой стать быть нет ткнять нос то мочь ничто трогать cromachy 18.04.2010 09 45 starzzzz двигать предмет запрещать атлетика be_a_utiful 18.04.2010 10 55 симка основательница снять ограничение временный тусовка понимать что если она уйти работа приставиться тот этот ограничение вступить сила предположить она умереть следующий поколение снимать правосудие блокировать временный ограничение значить это что нужный быть снимать тусовка как правосудие быть снять важный какой поколение смерть симка снять тусовка то тусовка мы зачесться сам понять что писать emija 18.04.2010 11 16 be_a_utiful временный ограничение вступать сила момент увольнение смерть снять он сима если правосудие быть снять это прийтись снимать временный ограничение starzzzz 18.04. 2010 23 35 condamne атлетика=спорт казаться что тамоно быть это самый невозможность двигать то мы оно сняться читать что стать это как раз быть ограничение мочь затеряться этот пунктик спорт существовать запрет один предмет занимать 1-й клетка класть инвентарь если тот побывать лото инвентар разрешать держать предмет исключение заработать разместить лото карьерный награда запрещать покупать использовать спортивный снаряжение тренажер скакалка оборудование детский площадка мишень топор баскетбольный кольцо ворота считать спортивный инвентарь недоступный действие прыгнуть рука боксерский груша мочь пользоваться сима работать данный момент область спорт запретить продавать предмет занимать 1-й клетка режим покупка удалять строительный объект режим строительство размер ограничение запрещать удалять использовать награда успех какой бы размер они быть бизнес запретить проводить пополнение запас товар занимать 1-й клетка снимать такой товар продажа запретить это запрещать изменение фигура сима ведьма elani 21.04.2010 15 05 вопросик назреть отселять муж основательница снять армия то забавный старичок получиться хотеться он гробить nokiamen 21.04.2010 21 29 отселять муж основательница снять армия весь кто участвовать продолжение династия должен умереть династийный лото должен быть снять “наука” “журналистика выселять первый случай комп во-второть газета один если снять “игры” компома пользоваться вторник cromachy 21.04.2010 23 06 nokiamen весь кто участвовать продолжение династия должен умереть династийный лото местный правило это ничто писать быть известный любительница усложнить себя жизнь данный случай хотеться бы смягчить правило раз мы играть смешанный другой дело что наука игра армия журналистика отселиться получиться elani 21.04.2010 23 25 снять наука армия вторник 12 ночь 12 день побочник отселять мочь nokiamen 21.04.2010 23 56 снять наука армия вторник 12 ночь 12 день побочник отселять мочь да. мочь great 24.04.2010 18 32 правило сказать что использовать то что сохранять дух остров рваный одежда сим одевать arnae 24.04.2010 18 41 great нужный anastasijka 24.04.2010 19 26 great потерпеть крушение сима мочь выглядеть другой дело когда пройти некоторый время сима научиться добывать ресурс он мочь обзавестись местный тростниковый юбочка бусик ракушка great 26.04.2010 14 40 зсвободный призраки” балл могила урна мочь быть удалить переместить если быть разбить могила урна мочь быть переместить багаж могила урна должен располагаться чтобы привидение мочь перемещаться лота если сима умереть что мочь передвигаться то что делать добавить минута ограничение ипохондрик сказать что заболеть сима нужный перемещать отдельный комната если комната нет arnae 26.04.2010 15 29 great ходить участок если сима умереть что мочь передвигаться то что делать это как это anastasijka 26.04. 2010 17 07 народ обосновать этот темок вы искать какой ограничение запрещать передвигать предмет занимать много один клетка помнить что быть такой пункт несколько раз пересмотреть правило что-то мочь найти слепой стать быть нет ткнять нос то мочь ничто трогать помнить играть он правило указать вопросик назреть отселять муж основательница снять армия то забавный старичок получиться хотеться он гробить возникнуть вопрос мы основной ветка случиться большой супружеский размолвка разводиться апокалипсис али если вступить сила ограничение снять супруг наследница это учитывать что продолжение род он причастный видеть ничто дурной то чтобы снятие супругом(ый наследница ик какой-то ограничение отселить он как случай брат сестра снять ограничение оставаться снять другой дело что один поколение снимать один ограничение подселить сим повторный брак ничто личный счастье сима принести emija 27.04.2010 01 29 great знать как обычный династия могила урна разрешать перемещать предел лот чтобы призрак мочь этот лота перемещаться что думать переставить могила чтобы дать призрак разгуливать знать что мешать строить требовать комната great 27.04.2010 06 58 emija пример когда основатель прибыть остров то дом сторить хотя он быть один bm один вопрос когда нужный сторить дом он строить emija 27.04.2010 07 26 great это автор зависеть основатель мочь быть местный мочь наткнуться забросить домик мочь обитать остров пол год этот время соорудить себя жилье что что этот пол год равный три сима секунда который ставить пауза игра автор ставить то что хватить первоначальный ресурс это указать пояснение общий что мочь случиться когда нужный сторить дом он строить когда захотеться история вписаться первый день рождение внук основатель никогдать great 27.04.2010 13 41 один ипохондрик если несколько сим заболеть то они должен быть один разный комант такой чувство что стреляються bm arnae 27.04.2010 20 10 great разный annaamelia 29.04.2010 19 45 вопрос вопрос вопрос мочь выкладывать скриншот ноутбук мочь нет кнопка ломать ak начать династия хотеться что делать ааааааааааа ak ak ak сидеть плакать ak ak ak когда ехать общественный участок что снять что иы быть сидеть ak ak cromachy 29.04.2010 19 57 annaamelia пытаться ответить все плакить какой смысл нет кнопка вы мочь выкладывать скрина сеть мочь они щелкать снять армия annaamelia 29.04.2010 20 20 кнопка нет скрина получать c:\\documents and settings\\admin\\мои документы\\ea games\\the sims 2\\neighborhoods делать вещь случай работа что делать они обойтись ak ak добавить минута кто обратиться оформление ak ak ak оформить начало династия апокалепсис знать что делать ak ak ak кто обратиться проверка отчет грамотность офорлмние ak ak ak arnae 29.04.2010 20 44 annaamelia скачивать программа скрин этот http:/ /prosims.ifolder.ru 17510957 выбрать любой клавиша создание снимок раздел правило быть тема список оформитель annaamelia 29.04.2010 20 52 ты тьма мочь откоректировать оформление помочь что делать обращаться програмка поищить arnae 29.04.2010 21 00 annaamelia ссылка программка дать мочь помочь писать личка annaamelia 29.04. 2010 21 20 аааааааааааааааааааааааа просить ответти программка скачать крутой спасибо что оформление правило нет извинить расплакиться ak ak ak arnae 29.04.2010 21 24 annaamelia что правило нет третий раз писать что мочь помочь писать личка это если что ответ вопрос ты тьма мочь откоректировать оформление помочь лепесток 30.04.2010 09 46 взрослый мочь изучать механика кулинария уборка книга то медицина газета попасться упускать такой шанс rirun 30.04.2010 12 14 лепесток взрослый мочь zerva 01.05.2010 10 36 несколько вопрос университет отправить сим университет снять кулинария медицина шоу бизнес армия образование столкнуться то что день неделя указываться если рассуждать сим отправить вторник полночь прибыть они утро это считать вторник прибытие звонить выбрать специальность все делать что-то нарушить знать быть неснятый криминал неделя университет указываться решить неделя считать семестр каждый семестр продавать вещь заменять они новый вопрос быть делать возникнуть вопрос подарок свидание если они дарить они стоять то быть они перемещать мочь сима они пользоваться если быть неснятый ограничение запрещать это наука запрещать телевизор подозревать что это читать просить другой студент писать курсовой делать домашний задание annaamelia 01.05.2010 12 46 эйти помочь хотеть начать свой династия какой формат брать фото знать готовый новый династия cromachy 01.05.2010 13 47 zaraz думать что универ все правильный пользоваться подарок свидание неснятый ограничение сима мочь неснятой политика весь действие влияние запретить что просить другой студент annaamelia 600 450 пиксель nokiamen 01.05.2010 15 52 zaraz день неделя универ быть хакнуть объект он описание небольшой скульптура позволять узнавать какой данный момент день неделя мочь быть полезный студент снять ограничение gamer когда использовать телефон компьютер вторник быть внимательный объект являться скульптура снятие ограничение artist хороший стараться разместить он недоступный сима место карман вынимать просмотр день неделя прятать чердак информация брать Sixei.ru он сам http://www.modthesims.info/download.php t= 235423 манять 01.05.2010 22 53 вопрос номер раз основательница красть инопланетянин универ это считать снятие чужеземный технология если нет то вопрос номер два если симка привозить универ число 3-й предмет эликсир жизнь мочь они пользоваться другой член семья когда они появиться rirun 01.05.2010 23 35 манять пока основатель учиться универ он никакой ограничение снять мочь что апокалипсис случиться мочь насколько знать манять 02.05.2010 10 44 ak инопланетяшка посещать это быть первый раз спасибо ответ podchacha 02.05 2010 14 02 время учеба основатель университет отправиться отпуск получить шаман кукла вуд пользоваться она начало апокалипсис сколько понять она блокировать мистика вопрос чужеземный технология правило сказать этот ограничение снимать сима снять он мочь выбрать один список обязательный то быть снятие этот ограничение снять любой карьерный ограничение вопрос конспиративный квартира старый правило быть пункт что если основатель вступать тайный общество то мочь поселиться особый жилье быть этот правило новый ограничение чтоять это напрягаться rirun 02.05.2010 14 51 podchacha время учеба университет никакой ограничение действовать пользоваться кукла вуд выдержка правило инопланетный технология означать что этот ограничение распространяться правило один сима один ограничение то быть сима снять он мочь снять карьерный ограничение достичь вершина соответствующий карьера преимущество конспиративный квартира то что они потрепать то быть стоять дешевый чем если строить такой такой образ заселение они позволять экономить некоторый количество деньги стоить это напрягаться решать вы podchacha 02.05 2010 18 26 вопрос если университет мочь изготовить львиный зев они быть пользоваться начало апокалипсис мочь ростоман снятие весь необходимый ограничение он создание как понять естественник посадка растение ученый опыление делать наследник отпрыск мочь ростоман размножаться почкование nokiamen 02.05.2010 19 07 вопрос если университет мочь изготовить львиный зев они быть пользоваться начало апокалипсис запрещать Зестественник криминал позволять иметь один поделка один цветок толк мочь ростоман снятие весь необходимый ограничение он создание как понять естественник посадка растение ученый опыление делать наследник отпрыск мочь ростоман размножаться почкование наследник сказать почковаться это делать невозможный семейник иметь 30 внук arnae 02.05 2010 21 48 обсуждать нововведение новый ограничение династия питомец http i040.radikal.ru 1101/ef/b4263b365a7c.gif кот династия кошачий http:/ /prosims.ru/showthread.php?p=1003558#post1003558 династия мартайм http:/ /prosims.ru/showthread.php ?t=28112 династия Мурр http:/ /prosims.ru/showthread.php ?t=28612 династия олсен близкий природа http: /prosims.ru/showthread.php ?t=28654 династия лимменс http://www.prosims.ru/showthread.php ?t=28967 династия хвосттруба http: /prosims.ru/showthread.php ?t=29445 династия лаймон http://www.prosims.ru/showthread.php ?t=29726 династия кабби legacy cubby http:/ /prosims.ru/showthread.php ?t=31650 http s011.radikal.ru i315 1101/05/9078721ae248.gif собака династия вонлена http:/ /prosims.ru/showthread.php ?t=28121 animal dinasty династия донатто http:/ /prosims.ru/showthread.php ?t=29044 династия собачий http:/ /prosims.ru/showthread.php ?t=29208 династия fon hunde немецкий аристократ http:/ /prosims.ru/showthread.php ?t=29417 династия рыкать безносать династия http: /prosims.ru/showthread.php ?t=33446 arnae 02.05.2010 21 49 предлагать свой ограничение задавать вопрос писать какой хороший идея захламлять темка Бreathewme 02.05 2010 22 05 podchacha предлагать ввести такой ограничение подный дорога” “one way street” категория ограничение балл -сим мочь использовать эликсир жизнь эликсир корова мочь использовать мочь использовать эликсир жизнь зарабатывание балл “стремление трудный “aspiring to do it the hard way” балл -ва мочь использовать никакой награда стремление исключение сфера re-nu-yu изменение стремление «жареный сыр» этот ограничение стоить балл как выполнять ограничение подный дорога” “one way street” arnae 02.05.2010 22 08 hopelessly это думать первый ограничение касаться животное второй награда быть миска питомец один предмет если объединить это один создать ограничение долгожитель тип основатель питомец он хозяин должен принимать элексир чтобы проследить жизнь потомство arnae 03.0 2010 00 49 добавить опрос он быть закрыть неделя тигрёнок 03.05.2010 01 50 появиться идея что если добавить такой смешение кровь mixing blood балл начало игра указывать какой порода ваш котособак заводить потомство другой порода каждый наследник следовать определять порода если ничто находиться писать дворняжка беспородный основатель должен быть беспородный дворняга беспородный наследник нужный найти другарподруг такой порода как основатель беспородный питомец мочь стать наследник тот случай если породный котятсщенк оказаться семейный порода family rocks балл начало игра указывать какой порода ваш котособак заводить потомство питомец свой порода порода основатель становиться семейный заводить потомство питомец брать приют подарить купить магазин бизнес животное animal business балл -хозяин основатель должен преобрести общественный участок связать кошка собака сима наследник должен владеть участок конец династия заводить следующий участок тот пора пока первый предприятие заслужить 10 уровень 10 уровень лот продать завести новый общественный лот должен быть единственный денежный доход он владелец остальной сима семья мочь зарабатывать обычный путь питомец основатель наследник мочь работать понимать что порода быть сложный игра все назвать мучиться сровнять порода подобрать подобрать беспородный сам идея замечательный hopelessly тьма вы молодец arnae 03.05.2010 02 27 summerinka порода понравиться бизнес требовать большой усилие сторона сима сам хотеть что-то семейный порода делать как ограничение что если играть свой порода такой животное быть ps. раздел 777 то Бreathewme 03.05.2010 08 42 питомец он хозяин должен принимать эликсир чтобы проследить жизнь потомство как пунктик делать балл трудный он прийтись уделять внимание чтобы тот кот себя эликсир покупать идея нравиться интересный summerinka порода быть сложноватый когда выбрать ограничение гулять сам по-себ кот появление свет наследник мочь быть нпс другой нет трудный выбирать порода когда кот округ весь мальчик сам кот мальчик хотреть дашать нужный придумать что делать сам сима поколение питомец оно быть расти сима стареть они прийтись придумать что-то незначительный поколение чтобы питомец присматривать напр. симка заводить свой отношение сим вухукнуться они пара раз пдать симка забеременеть рождать наследник свой симовский кошачий семья ухаживать ребенок пока тот стать подросток симка мочь переехать другой участок жить сим это быть история кошачий династия главное остаться тот кто мочь следить кошка 2прош прощение что обобщать питомец что если играть свой порода ограничение брать ограничение играть они трудяга by hopelessly балл ходить работа мочь ваш питомец ваш сима мочь работать общественный участок бармен продавец кофе искать клад продавать найти вещь arnae 03.05.2010 09 27 порода интересный неудобный играть принципиальный они отсутствие нпс переделать родовитость балл каждый питомец должен иметь порода она прописывать семейный дерево когда щенки котят вырастать они необходимый придать окрас соответствовать их порода создать новый порода регистрировать она телефон партнер мочь стать животное приют магазин кто-нибудь что-нибудь понять проснуться arnae 03.0 2010 10 36 быть мнение что хороший оставить 10 поколение некоторый 15 20 || палочка обозначать кол-во человек голосовать вариант Бreathewme 03.05.2010 10 52 некоторый 15 20 имхий как гворить надоесться следить кот сим мы играть сколько быть развлечение свидание бизнес клуб садоводство семейный отношение животное надоесться они следить играть животное приют магазин тоесть купить животное как понимать этот правило естественный отбор смущать старый животное отселять семья получаться весь старый наследник пожилой отселать когда появляться новый arnae 03.05.2010 11 15 тоесть купить животное как понимать бы забыть что они такой образ приобретать получаться весь старый наследник пожилой отселать когда появляться новый нет когда состариться появление новый влиять Бreathewme 03.05.2010 11 34 нет когда состариться появление новый влиять перечитать этот фраза раз 10 все равный понять долгожитель by тьма балл питомец основатель он хозяин должен принимать эликсир молодость то чтобы проследить жизнь весь 10 поколение никто мочь использовать эликсир молодость питомец основатель он хозяин нужный наследничек сима три балл как требоваться сила сима arnae 03.0 2010 11 42 долгожитель by тьма балл питомец основатель он хозяин должен принимать эликсир молодость то чтобы проследить жизнь весь 10 поколение никто мочь использовать эликсир молодость питомец основатель он хозяин ага перечитать этот фраза раз 10 все равный понять когда питомец стареть течение день он избавиться тигрёнок 03.05.2010 11 54 когда выбрать ограничение гулять сам по-себ он выбирать это все ты зависеть насколько трудный игра ты нравиться нпс получаться бродяга тоесть беспородный тьма родовитость что интересный вспомянуть кое-что вы думать делать что-то это http: /prosims.ru/showpost.php?p=127200&postcount=4 если что порода включить думать что хороший оставить 10 поколение сима надоедать 10 что питомец говорить Бreathewme 03.05.2010 11 58 когда питомец стареть течение день он избавиться если наследник оставаться котенок сима мочь проследить котенок мочь делать что старик отселять то как повзрослеть наследник это быть лишний морок arnae 03.05.2010 12 07 hopelessly простой убрать хотя вписываться ограничение котенок мочь существовать взрослый главное чтобы сима быть это ребенок сим что решать arnae 03.05.2010 12 13 хм категория смотреть династия legacy получать 0.5 балл основатель получать получать 0.5 балл каждый поколение последний 10-й получать балл рождение 10-й поколение получать 0.5 балл портрет основатель наследник портрет должен находиться лото «безупречный отчет если вы весь 10 поколение заработать один штраф мочь претендовать этот бонус если вы заработать один штраф если компенсировать он категория Низбыток категория все равный провалить озаканчивать то что начать если вы нарушить один ограничение брать начало мочь получить этот балл чтобы выполнить этот категория необходимый один ограничение целеустремить достижение вершина карьера давать балл один питомец мочь быть дать балл распространяться каждый наследник Бreathewme 03.05.2010 12 13 summerinka разный штуковина династия сим сима -симка мочь заниматься хобби бизнес заводить друг т.д основной балл зарабатывать ограничение arnae 03.05.2010 12 14 hopelessly читать мысль все что они читать много Бreathewme 03.05.2010 12 19 тьма получаться понравиться последний категория добавить 18 минута чистюль by hopelessly балл питомец основатель должен быть черта характер чистюля вы должен мыть собака раз два день ваш сима должен ругать питомец то что они валяться грязь питомец должен быть опрыскать скунс Бreathewme 03.05.2010 15 59 подкорректировать думать семейный отношение family relations by hopelessly тьма делать потомство кошка который долгосрочный отношение 80 подумать что это быть трудный когда кот управлять мочь изменить давать команда делать потомство мочь тот сима который долгосрочный отношение выбрать питомец 80 быть легкий то что животное ожидать драться быть arnae 03.05.2010 16 28 hopelessly отношние убрать ненадежный непонятный vbulletin® v3.6.12 copyright 2000 2017 jelsoft enterprises Элда\n"
          ],
          "name": "stdout"
        }
      ]
    },
    {
      "cell_type": "code",
      "metadata": {
        "id": "HIdv3QmtQthl",
        "colab_type": "code",
        "colab": {}
      },
      "source": [
        ""
      ],
      "execution_count": 0,
      "outputs": []
    },
    {
      "cell_type": "code",
      "metadata": {
        "id": "d853kKEqrR0x",
        "colab_type": "code",
        "outputId": "8ca8806e-6d54-43dc-834d-d774f3669ea0",
        "colab": {
          "base_uri": "https://localhost:8080/",
          "height": 204
        }
      },
      "source": [
        "id_to_url = pd.read_csv(\"/content/drive/My Drive/text relevance/urls.numerate.txt\", sep='\\t', encoding='utf-8', header=None, names=['id','url','lemmatized_text_path'])\n",
        "id_to_url.head()"
      ],
      "execution_count": 0,
      "outputs": [
        {
          "output_type": "execute_result",
          "data": {
            "text/html": [
              "<div>\n",
              "<style scoped>\n",
              "    .dataframe tbody tr th:only-of-type {\n",
              "        vertical-align: middle;\n",
              "    }\n",
              "\n",
              "    .dataframe tbody tr th {\n",
              "        vertical-align: top;\n",
              "    }\n",
              "\n",
              "    .dataframe thead th {\n",
              "        text-align: right;\n",
              "    }\n",
              "</style>\n",
              "<table border=\"1\" class=\"dataframe\">\n",
              "  <thead>\n",
              "    <tr style=\"text-align: right;\">\n",
              "      <th></th>\n",
              "      <th>id</th>\n",
              "      <th>url</th>\n",
              "      <th>lemmatized_text_path</th>\n",
              "    </tr>\n",
              "  </thead>\n",
              "  <tbody>\n",
              "    <tr>\n",
              "      <th>0</th>\n",
              "      <td>1</td>\n",
              "      <td>eva.ru/forum/topic-tree-mobile.htm?messageId=8...</td>\n",
              "      <td>NaN</td>\n",
              "    </tr>\n",
              "    <tr>\n",
              "      <th>1</th>\n",
              "      <td>2</td>\n",
              "      <td>e1.ru/articles/travel/page_4/009/994/article_9...</td>\n",
              "      <td>NaN</td>\n",
              "    </tr>\n",
              "    <tr>\n",
              "      <th>2</th>\n",
              "      <td>3</td>\n",
              "      <td>bikepost.ru/qa/post/9065/Kak-pravilno-sdelat-v...</td>\n",
              "      <td>NaN</td>\n",
              "    </tr>\n",
              "    <tr>\n",
              "      <th>3</th>\n",
              "      <td>4</td>\n",
              "      <td>rutax.polpred.com/?ns=1&amp;page=2</td>\n",
              "      <td>NaN</td>\n",
              "    </tr>\n",
              "    <tr>\n",
              "      <th>4</th>\n",
              "      <td>5</td>\n",
              "      <td>coollib.com/b/259649/read</td>\n",
              "      <td>NaN</td>\n",
              "    </tr>\n",
              "  </tbody>\n",
              "</table>\n",
              "</div>"
            ],
            "text/plain": [
              "   id                                                url  lemmatized_text_path\n",
              "0   1  eva.ru/forum/topic-tree-mobile.htm?messageId=8...                   NaN\n",
              "1   2  e1.ru/articles/travel/page_4/009/994/article_9...                   NaN\n",
              "2   3  bikepost.ru/qa/post/9065/Kak-pravilno-sdelat-v...                   NaN\n",
              "3   4                     rutax.polpred.com/?ns=1&page=2                   NaN\n",
              "4   5                          coollib.com/b/259649/read                   NaN"
            ]
          },
          "metadata": {
            "tags": []
          },
          "execution_count": 10
        }
      ]
    },
    {
      "cell_type": "code",
      "metadata": {
        "id": "WcUNjhvkHhyP",
        "colab_type": "code",
        "colab": {}
      },
      "source": [
        "i=0\n",
        "for root, dirs, files in os.walk(\"/content/drive/My Drive/text relevance/content/content\"):\n",
        "  if not '_lem' in root:\n",
        "    for filee in files:\n",
        "        i+=1\n",
        "        if i %100 == 0:\n",
        "            print(i)\n",
        "        filepath = root+'/'+filee\n",
        "        \n",
        "        lemmatized_path = root + '_lem/'+ filee + '.lemmatized.txt'\n",
        "        \n",
        "        if os.path.isfile(lemmatized_path): # if lemmatized version exists\n",
        "            with open(filepath, 'r', encoding='latin1') as f:\n",
        "                url = f.readline().rstrip()\n",
        "            id_to_url.loc[id_to_url['url'] == url, 'lemmatized_text_path'] = lemmatized_path\n",
        "            #print(lemmatized_path, url)\n",
        "        else:\n",
        "            continue"
      ],
      "execution_count": 0,
      "outputs": []
    },
    {
      "cell_type": "code",
      "metadata": {
        "id": "iEw3qMxUkX8q",
        "colab_type": "code",
        "colab": {}
      },
      "source": [
        "import pandas as pd\n",
        "id_to_url = pd.read_csv('/content/drive/My Drive/text relevance/main.csv', sep='\\t', encoding='latin1')"
      ],
      "execution_count": 0,
      "outputs": []
    },
    {
      "cell_type": "code",
      "metadata": {
        "id": "QR-UdaCjH2M8",
        "colab_type": "code",
        "colab": {}
      },
      "source": [
        "id_to_url.to_csv('/content/drive/My Drive/text relevance/main.csv', sep='\\t')\n"
      ],
      "execution_count": 0,
      "outputs": []
    },
    {
      "cell_type": "code",
      "metadata": {
        "id": "bOyKYtJ4SQQJ",
        "colab_type": "code",
        "colab": {}
      },
      "source": [
        "id_to_url.info()"
      ],
      "execution_count": 0,
      "outputs": []
    },
    {
      "cell_type": "code",
      "metadata": {
        "id": "JRejngxXHQzL",
        "colab_type": "code",
        "colab": {}
      },
      "source": [
        "id_to_url.head(5)"
      ],
      "execution_count": 0,
      "outputs": []
    },
    {
      "cell_type": "code",
      "metadata": {
        "id": "UveSH634F2wT",
        "colab_type": "code",
        "outputId": "7e4880bb-a56c-4675-c45a-0187ab3c8c9a",
        "colab": {
          "base_uri": "https://localhost:8080/",
          "height": 68
        }
      },
      "source": [
        "nltk.download('punkt')"
      ],
      "execution_count": 0,
      "outputs": [
        {
          "output_type": "stream",
          "text": [
            "[nltk_data] Downloading package punkt to /root/nltk_data...\n",
            "[nltk_data]   Unzipping tokenizers/punkt.zip.\n"
          ],
          "name": "stdout"
        },
        {
          "output_type": "execute_result",
          "data": {
            "text/plain": [
              "True"
            ]
          },
          "metadata": {
            "tags": []
          },
          "execution_count": 31
        }
      ]
    },
    {
      "cell_type": "code",
      "metadata": {
        "id": "-79n9Xw1Ff59",
        "colab_type": "code",
        "outputId": "a5f16984-6103-4710-c2b9-3d70c89f49af",
        "colab": {
          "base_uri": "https://localhost:8080/",
          "height": 51
        }
      },
      "source": [
        "import nltk\n",
        "from nltk.util import ngrams\n",
        "text = ['cant', 'citadel', 'police']\n",
        "bigrams = list(ngrams(text, 2)) \n",
        "print(' '.join(bigrams[0]))\n",
        "print(bigrams)"
      ],
      "execution_count": 0,
      "outputs": [
        {
          "output_type": "stream",
          "text": [
            "cant citadel\n",
            "[('cant', 'citadel'), ('citadel', 'police')]\n"
          ],
          "name": "stdout"
        }
      ]
    },
    {
      "cell_type": "code",
      "metadata": {
        "id": "79bSYNsKQQmq",
        "colab_type": "code",
        "colab": {}
      },
      "source": [
        "from collections import Counter\n",
        "import pandas as pd\n",
        "import numpy as np\n",
        "from collections import defaultdict\n",
        "import nltk\n",
        "from nltk.util import ngrams\n",
        "\n",
        "class RelevantTexts():\n",
        "    def __init__(self):\n",
        "        self.query_to_docs = pd.read_csv('/content/drive/My Drive/text relevance/sample.technosphere.ir1.textrelevance.submission.txt')\n",
        "        self.main = pd.read_csv('/content/drive/My Drive/text relevance/main.csv', sep='\\t', encoding='latin1')\n",
        "        \n",
        "        self.mean_title_len = 0\n",
        "        self.mean_doc_len = 0\n",
        "        self.doc_num = 0\n",
        "        self.idf_doc = defaultdict(float)\n",
        "        self.idf_title = defaultdict(float)\n",
        "        self.idf_doc_bi = defaultdict(float)\n",
        "        self.idf_title_bi = defaultdict(float)\n",
        "        self.k1 = 1.75\n",
        "        self.b = 0.75\n",
        "        self.title_coef = 1.5\n",
        "        self.doc_coef = 1\n",
        "        self.bigram_coef = 2\n",
        "    \n",
        "    def _relevance(self, query, doc): #bm25f ungram bigram\n",
        "        title_score = 0\n",
        "        doc_score = 0\n",
        "        title_bigram_score = 0\n",
        "        doc_bigram_score = 0\n",
        "        with open(doc, 'r') as f:\n",
        "            title = f.readline().strip()\n",
        "            if title == '':\n",
        "                return -1\n",
        "            text = f.readline().strip()\n",
        "\n",
        "            title_len = len(title.split())\n",
        "            doc_len = len(text.split())\n",
        "            \n",
        "            for word in query:\n",
        "                tf_title = title.count(word)\n",
        "                tf_doc = text.count(word)\n",
        "\n",
        "                title_score += self.idf_title[word] * (tf_title * (self.k1 + 1)) / (tf_title + self.k1 * (1 - self.b + self.b * title_len / self.mean_title_len))\n",
        "                doc_score += self.idf_doc[word] * (tf_doc * (self.k1 + 1)) / (tf_doc + self.k1 * (1 - self.b + self.b * doc_len / self.mean_doc_len))\n",
        "            \n",
        "            bigrams = list(ngrams(query, 2))\n",
        "            for bi in bigrams:\n",
        "                tf_title = title.count(' '.join(bi))\n",
        "                tf_doc = text.count(' '.join(bi))\n",
        "                title_bigram_score += self.idf_title_bi[bi] * (tf_title * (self.k1 + 1)) / (tf_title + self.k1 * (1 - self.b + self.b * title_len / self.mean_title_len))\n",
        "                doc_bigram_score += self.idf_doc_bi[bi] * (tf_doc * (self.k1 + 1)) / (tf_doc + self.k1 * (1 - self.b + self.b * doc_len / self.mean_doc_len))\n",
        "\n",
        "        #print(title)\n",
        "        #print('ungram scores for title and doc:', title_score, doc_score)\n",
        "        #print('bigram scores for title and doc:', title_bigram_score, doc_bigram_score)\n",
        "        #print()\n",
        "        score = (self.doc_coef * doc_score + self.title_coef * title_score) + self.bigram_coef * (self.title_coef * title_bigram_score + 0.5*doc_bigram_score)\n",
        "        return score\n",
        "\n",
        "    def _doc_stats(self, doc_docs):\n",
        "        sum_title_len = 0\n",
        "        sum_doc_len = 0\n",
        "        for doc in doc_docs:\n",
        "            with open(doc, 'r') as f:\n",
        "                title = f.readline().strip().split()\n",
        "                if title != []:\n",
        "                    self.doc_num += 1\n",
        "                    text = f.readline().strip().split()\n",
        "                    sum_title_len += len(title)\n",
        "                    sum_doc_len += len(text)\n",
        "\n",
        "                    words = set()\n",
        "                    for word in text:\n",
        "                      if not word in words:\n",
        "                        self.idf_doc[word] += 1\n",
        "                        words.add(word)\n",
        "\n",
        "                    words = set()\n",
        "                    bigrams = list(ngrams(text, 2))\n",
        "                    for bi in bigrams:\n",
        "                      if not bi in words:\n",
        "                        self.idf_doc_bi[bi] += 1\n",
        "                        words.add(bi)\n",
        "\n",
        "                    words = set()\n",
        "                    for word in title:\n",
        "                      if not word in words:\n",
        "                        self.idf_title[word] += 1\n",
        "                        words.add(word)\n",
        "\n",
        "                    words = set()\n",
        "                    bigrams = list(ngrams(title, 2))\n",
        "                    for bi in bigrams:\n",
        "                      if not bi in words:\n",
        "                        self.idf_title_bi[bi] += 1\n",
        "                        words.add(bi)\n",
        "\n",
        "        self.mean_title_len = sum_title_len / self.doc_num\n",
        "        self.mean_doc_len = sum_doc_len / self.doc_num\n",
        "        self._calculate_idf(self.idf_doc)\n",
        "        self._calculate_idf(self.idf_title)\n",
        "        self._calculate_idf(self.idf_doc_bi)\n",
        "        self._calculate_idf(self.idf_title_bi)\n",
        "        #print(self.idf_doc)\n",
        "        #input()\n",
        "        #print(self.idf_title)\n",
        "        #input()\n",
        "        #print(self.idf_doc_bi)\n",
        "        #input()\n",
        "        #print(self.idf_title_bi)\n",
        "        #input()\n",
        "\n",
        "    def _calculate_idf(self, some_idf):\n",
        "        for word in some_idf.keys():\n",
        "            idf = np.log( (self.doc_num - some_idf[word] +0.5) / (some_idf[word]) +0.5)\n",
        "            if idf > 0:\n",
        "                some_idf[word] = idf\n",
        "            else:\n",
        "                some_idf[word] = 0.000001\n",
        "\n",
        "    def count_scores(self, query_id, query):\n",
        "        progress = 0\n",
        "        doc_ids_with_nans = list(self.query_to_docs.loc[self.query_to_docs.QueryId == query_id].DocumentId)\n",
        "        doc_docs = []\n",
        "        doc_ids = []\n",
        "        for doc_id in doc_ids_with_nans:\n",
        "            d = self.main.loc[self.main.id == doc_id].iloc[0].lemmatized_text_path\n",
        "            if isinstance(d, str):\n",
        "                doc_docs.append(d)\n",
        "                doc_ids.append(doc_id)\n",
        "        query = query.split()\n",
        "        relevancies = {}\n",
        "\n",
        "        self.mean_title_len = 0\n",
        "        self.mean_doc_len = 0\n",
        "        self.doc_num = 0\n",
        "        self.idf_title = defaultdict(float)\n",
        "        self.idf_doc = defaultdict(float)\n",
        "        self.idf_doc_bi = defaultdict(float)\n",
        "        self.idf_title_bi = defaultdict(float)\n",
        "        self._doc_stats(doc_docs)\n",
        "        #print(self.mean_title_len, self.mean_doc_len, self.doc_num)\n",
        "        #input()\n",
        "        #print(self.idf_title)\n",
        "        #input()\n",
        "\n",
        "        for doc, doc_id in zip(doc_docs, doc_ids):\n",
        "            progress += 1\n",
        "            rel = self._relevance(query, doc)\n",
        "            relevancies[doc_id] = rel\n",
        "        c = Counter(relevancies)\n",
        "        #print(c)\n",
        "        #return c.most_common(10)\n",
        "        return c\n",
        "\n",
        "    def see_docs(self, query_id):\n",
        "        doc_ids_with_nans = list(self.query_to_docs.loc[self.query_to_docs.QueryId == query_id].DocumentId)\n",
        "        doc_docs = []\n",
        "        doc_ids = []\n",
        "        for doc_id in doc_ids_with_nans:\n",
        "            d = self.main.loc[self.main.id == doc_id].iloc[0].lemmatized_text_path\n",
        "            if isinstance(d, str):\n",
        "                doc_docs.append(d)\n",
        "                doc_ids.append(doc_id)\n",
        "        for doc in doc_docs:\n",
        "            with open(doc, 'r') as f:\n",
        "                title = f.readline().strip()\n",
        "                print(doc[-41:], title)"
      ],
      "execution_count": 0,
      "outputs": []
    },
    {
      "cell_type": "code",
      "metadata": {
        "id": "Ci29e8CWR0VS",
        "colab_type": "code",
        "colab": {}
      },
      "source": [
        "q = RelevantTexts()"
      ],
      "execution_count": 0,
      "outputs": []
    },
    {
      "cell_type": "code",
      "metadata": {
        "id": "ESCKvFRdjKcG",
        "colab_type": "code",
        "colab": {}
      },
      "source": [
        "q.see_docs(159)"
      ],
      "execution_count": 0,
      "outputs": []
    },
    {
      "cell_type": "code",
      "metadata": {
        "id": "F6WfK4m8TJnU",
        "colab_type": "code",
        "outputId": "a78e1ab3-8ea2-4d6b-87f9-8d57ea40bb53",
        "colab": {
          "base_uri": "https://localhost:8080/",
          "height": 224
        }
      },
      "source": [
        "a = q.count_scores(159, 'увеличить предмет симс 4')\n",
        "b = q.count_scores(159, 'увеличить предмет sims 4')\n",
        "top = (a + b).most_common(10)\n",
        "\n",
        "print(top)\n",
        "\n",
        "for i, doc_id in enumerate(top):\n",
        "    #print(q.main.loc[q.main.id == doc_id[0]].iloc[0].lemmatized_text_path[-41:])\n",
        "    with open(q.main.loc[q.main.id == doc_id[0]].iloc[0].lemmatized_text_path, 'r') as f:\n",
        "        title = f.readline().strip()\n",
        "        print(i, doc_id[0], title)"
      ],
      "execution_count": 0,
      "outputs": [
        {
          "output_type": "stream",
          "text": [
            "[(15306, 99.18632706615082), (15335, 90.1278978233102), (15296, 70.54351839240063), (15360, 65.18344177169456), (15303, 64.15169229701168), (15340, 48.96807629401731), (15324, 43.57524117592218), (15382, 41.985036673343004), (15326, 41.2827941937404), (15371, 41.12074239621655)]\n",
            "0 15306 увеличить предмет sims4\n",
            "1 15335 ответыдmail.ru увеличить предмет sims4\n",
            "2 15296 увеличить предмет thesims4 youtube\n",
            "3 15360 увеличить предмет the sims\n",
            "4 15303 увеличить предмет игра sims\n",
            "5 15340 увеличение предмет симс youtube\n",
            "6 15324 увеличивать предмет симс видео wikibit.me\n",
            "7 15382 увеличить симс количество персонаж семья\n",
            "8 15326 увеличивать предмет симс youtube\n",
            "9 15371 увеличить любой вещь симс работа youtube\n"
          ],
          "name": "stdout"
        }
      ]
    },
    {
      "cell_type": "code",
      "metadata": {
        "id": "zMDUBVKYAQ7Q",
        "colab_type": "code",
        "colab": {}
      },
      "source": [
        "with open('/content/drive/My Drive/text relevance/submission.txt', 'w') as sub:\n",
        "    sub.write('QueryId,DocumentId\\n')\n",
        "    for i in range(1,400):\n",
        "        alts = []\n",
        "        with open('/content/drive/My Drive/text relevance/lemmatized_queries.txt', 'r') as f:\n",
        "            for line in f:\n",
        "                query_id, query = line.strip().split('\\t')\n",
        "                if int(query_id) == i:\n",
        "                    alts.append(query)\n",
        "                    print(int(query_id), i, query)\n",
        "        a = q.count_scores(i, alts[0])\n",
        "        for alt in alts[1:]:\n",
        "          b = q.count_scores(i, alt)\n",
        "          a = a + b\n",
        "\n",
        "        top = (a).most_common(10) ### top 10\n",
        "        for doc_id in top:\n",
        "            sub.write( str(i) + ',' + str(doc_id[0]) + '\\n')"
      ],
      "execution_count": 0,
      "outputs": []
    },
    {
      "cell_type": "code",
      "metadata": {
        "id": "DH6gTqgELSa7",
        "colab_type": "code",
        "colab": {}
      },
      "source": [
        ""
      ],
      "execution_count": 0,
      "outputs": []
    }
  ]
}